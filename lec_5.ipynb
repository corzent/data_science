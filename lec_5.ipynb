{
 "cells": [
  {
   "cell_type": "markdown",
   "id": "227a4445-e040-44e8-8b92-adf9f8c78de7",
   "metadata": {},
   "source": [
    "## Класстеризация, классификация, регрессия"
   ]
  },
  {
   "cell_type": "markdown",
   "id": "a6b16a7d-7a3a-41f9-ba86-1d453d86b3c5",
   "metadata": {},
   "source": [
    "### Что такое машинное обучение?"
   ]
  },
  {
   "cell_type": "markdown",
   "id": "97b2d781-c640-463f-9d1c-064395761667",
   "metadata": {},
   "source": [
    "Unsupervised Learning"
   ]
  },
  {
   "cell_type": "code",
   "execution_count": 3,
   "id": "6b393310-fa1c-475f-a6bc-0b99302d007e",
   "metadata": {},
   "outputs": [],
   "source": [
    "import matplotlib.pyplot as plt\n",
    "import seaborn as sns\n",
    "sns.set()"
   ]
  },
  {
   "cell_type": "code",
   "execution_count": 4,
   "id": "4b3b0756-4ccf-4098-bf13-2cf36598ef8e",
   "metadata": {},
   "outputs": [],
   "source": [
    "from sklearn.datasets import make_blobs\n",
    "\n",
    "points, cluster_indexes = make_blobs(n_samples=300, centers=4, n_features=4, random_state=0)"
   ]
  },
  {
   "cell_type": "code",
   "execution_count": 5,
   "id": "b97825b2-5ad4-41dc-bc7c-5d0ab9467500",
   "metadata": {},
   "outputs": [],
   "source": [
    "from sklearn.cluster import KMeans\n",
    "\n",
    "kmeans = KMeans(n_clusters=3, random_state=0, n_init=10)\n",
    "kmeans.fit(points)\n",
    "predicted_cluster_indexes = kmeans.predict(points)"
   ]
  },
  {
   "cell_type": "markdown",
   "id": "c7db3a08-acaf-4851-ac2e-6660f48b801b",
   "metadata": {},
   "source": [
    "Входные данные, веса, функция активации. Обучение без учителя, класстеризация, k-NN"
   ]
  },
  {
   "cell_type": "markdown",
   "id": "58060ac4-7f50-429e-83d5-fe9469ee629c",
   "metadata": {},
   "source": [
    "https://dmitrymakarov.ru"
   ]
  },
  {
   "cell_type": "code",
   "execution_count": null,
   "id": "0ebc13c6-e3d7-4188-9ad0-54c970a64962",
   "metadata": {},
   "outputs": [],
   "source": []
  }
 ],
 "metadata": {
  "kernelspec": {
   "display_name": "Python 3 (ipykernel)",
   "language": "python",
   "name": "python3"
  },
  "language_info": {
   "codemirror_mode": {
    "name": "ipython",
    "version": 3
   },
   "file_extension": ".py",
   "mimetype": "text/x-python",
   "name": "python",
   "nbconvert_exporter": "python",
   "pygments_lexer": "ipython3",
   "version": "3.11.7"
  }
 },
 "nbformat": 4,
 "nbformat_minor": 5
}
