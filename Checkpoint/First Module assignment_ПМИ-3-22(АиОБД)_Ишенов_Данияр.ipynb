{
 "cells": [
  {
   "cell_type": "markdown",
   "metadata": {},
   "source": [
    "## Наука о данных  \n",
    "\n",
    "## First Module assignment\n",
    "\n",
    "### Общая информация\n",
    "\n",
    "Общее время на выполнение:  60 мин\n",
    "\n",
    "Максимальная оценка за работу — 20 баллов.\n",
    "\n",
    "Сдавать задание по истечении 60 минут нельзя. \n",
    "\n",
    "Задание выполняется самостоятельно. \n",
    "\n",
    "### Формат сдачи\n",
    "Задания сдаются в виде ноутбука с выполненными заданиями. \n",
    "\n",
    "Дайте имя ноутбуку: <span style=\"color: red;\">First_Module_assignment_Группа_Фамилия_Имя.ipynb</span>\n",
    "\n",
    "## <span style=\"color: red;\">Примечание:</span>\n",
    "<span style=\"color: red;\">заранее откройте доступ к Вашей работе.  Оценка «0» выставляется  автоматически, если нету доступа к отправленному ноутбуку!</span>"
   ]
  },
  {
   "cell_type": "markdown",
   "metadata": {},
   "source": [
    "**1. Имеются данные о четырех иностранных граждан: имя, страна откуда приехали, возраст. Создайте словарь и преобразуйте в набор данных под названием foreigners_df. Покажите последние 3 записи**"
   ]
  },
  {
   "cell_type": "code",
   "execution_count": 29,
   "metadata": {
    "uuid": "ad1b06f7-e03a-4938-9d59-5bb40e848553"
   },
   "outputs": [],
   "source": [
    "# Ваш код здесь\n",
    "import pandas as pd\n",
    "\n",
    "foreigners_data = {\n",
    "    \"Name\": [\"John\", \"Max\", \"Anna\", \"Bill\"],\n",
    "    \"Country\": [\"USA\", \"France\", \"Italy\", \"Brazil\"],\n",
    "    \"Age\": [30, 25, 28, 32]\n",
    "}\n",
    "\n",
    "foreigners_df = pd.DataFrame(foreigners_data)\n",
    "\n",
    "foreigners_last_three = foreigners_df.tail(3)\n"
   ]
  },
  {
   "cell_type": "markdown",
   "metadata": {},
   "source": [
    "**2. Узнайте, сколько граждан Германии в возрасте от 30 до 45 в foreigners_df**"
   ]
  },
  {
   "cell_type": "code",
   "execution_count": 30,
   "metadata": {
    "scrolled": true
   },
   "outputs": [
    {
     "data": {
      "text/plain": [
       "57"
      ]
     },
     "execution_count": 30,
     "metadata": {},
     "output_type": "execute_result"
    }
   ],
   "source": [
    "# Ваш код здесь\n",
    "foreigners_df = pd.read_csv('adult.data.csv')\n",
    "\n",
    "germans = foreigners_df[(foreigners_df['native-country'] == 'Germany') & \n",
    "                                     (foreigners_df['age'] >= 30) & \n",
    "                                     (foreigners_df['age'] <= 45)]\n",
    "\n",
    "germans.shape[0]\n"
   ]
  },
  {
   "cell_type": "markdown",
   "metadata": {},
   "source": [
    "# Классификация сортов ириса\n",
    "Набор данных *Iris* включен в модуль *datasets* библиотеки *scikit-learn*. \n",
    "\n",
    "**3. Загрузите его, вызвав функцию *load_iris()***"
   ]
  },
  {
   "cell_type": "code",
   "execution_count": 36,
   "metadata": {
    "scrolled": true
   },
   "outputs": [],
   "source": [
    "# Ваш код здесь\n",
    "from sklearn.datasets import load_iris\n",
    "iris_df = load_iris()"
   ]
  },
  {
   "cell_type": "markdown",
   "metadata": {},
   "source": [
    "**4. Значение ключа target_names – это массив строк, содержащий сорта цветов. Вывести все сорта Iris**"
   ]
  },
  {
   "cell_type": "code",
   "execution_count": 37,
   "metadata": {},
   "outputs": [
    {
     "data": {
      "text/plain": [
       "array(['setosa', 'versicolor', 'virginica'], dtype='<U10')"
      ]
     },
     "execution_count": 37,
     "metadata": {},
     "output_type": "execute_result"
    }
   ],
   "source": [
    "# Ваш код здесь\n",
    "\n",
    "iris_df['target_names']"
   ]
  },
  {
   "cell_type": "markdown",
   "metadata": {},
   "source": [
    "**5. Значение feature_names – это список строк с описанием каждого признака. Вывести названия характеристик (признаков)** "
   ]
  },
  {
   "cell_type": "code",
   "execution_count": 38,
   "metadata": {},
   "outputs": [
    {
     "data": {
      "text/plain": [
       "['sepal length (cm)',\n",
       " 'sepal width (cm)',\n",
       " 'petal length (cm)',\n",
       " 'petal width (cm)']"
      ]
     },
     "execution_count": 38,
     "metadata": {},
     "output_type": "execute_result"
    }
   ],
   "source": [
    "# Ваш код здесь\n",
    "iris_df['feature_names']"
   ]
  },
  {
   "cell_type": "markdown",
   "metadata": {},
   "source": [
    "**6. Проверьте, есть ли в данных пропуски**"
   ]
  },
  {
   "cell_type": "code",
   "execution_count": 42,
   "metadata": {},
   "outputs": [],
   "source": [
    "# Ваш код здесь"
   ]
  },
  {
   "cell_type": "markdown",
   "metadata": {},
   "source": [
    "Массив содержит измерения для 150 различных цветов по 4 признакам. Вспомним, что в машинном обучении отдельные элементы называются примерами (samples), а их свойства –характеристиками или признаками (feature).\n",
    "\n",
    "**7. Вывести первые пять строк. Согласны ли Вы с утверждением, что все пять цветов имеют ширину лепестка 0.2 см и первый цветок имеет самую большую длину чашелистика, 5.1 см.**"
   ]
  },
  {
   "cell_type": "code",
   "execution_count": 6,
   "metadata": {},
   "outputs": [],
   "source": [
    "# Ваш код здесь"
   ]
  },
  {
   "cell_type": "markdown",
   "metadata": {},
   "source": [
    "В библиотеке *scikit-learn* есть функция *train_test_split*, которая перемешивает набор данных и разбивает его на обучающий набор и тестовый набор. \n",
    "\n",
    "Перед разбиением функция train_test_split перемешивает набор данных с помощью генератора псевдослучайных чисел. Если просто брать последние 25% наблюдений в качестве тестового набора, все точки данных будет иметь метку 2, поскольку все точки данных\n",
    "отсортированы по меткам. Поэтому данные перемешиваются. Чтобы в точности повторно воспроизвести полученный результат испольлзуется генератор псевдослучайных чисел с фиксированным стартовым значением, которое задается с помощью параметра\n",
    "random_state. random_state=0 будет генерировать один и тот же результат. \n",
    "\n",
    "**8. Разделите данные на обучающий и тестовый наборы. И добавьте генератор псевдослучайных чисел с фиксированным стартовым значением, чтобы генерировать один и тот же результат**"
   ]
  },
  {
   "cell_type": "code",
   "execution_count": 17,
   "metadata": {},
   "outputs": [],
   "source": [
    "from sklearn.model_selection import train_test_split\n",
    "# Ваш код здесь"
   ]
  },
  {
   "cell_type": "markdown",
   "metadata": {},
   "source": [
    "В библиотеке *scikit-learn* имеется довольно много алгоритмов классификации, которые могли бы использоватся для построения модели. В нем все модели реализованы в собственных классах, называемых классами Estimator. Алгоритм классификации на основе метода k ближайших соседей реализован в классификаторе *KNeighborsClassifier* модуля *neighbors*. Прежде чем использовать эту модель, Вам нужно создать объект-экземпляр класса. Это создается, когда мы зададим параметры модели. Самым важным параметром KNeighborsClassifier является *количество соседей*.\n",
    "\n",
    "**9. Создайте объект с именем *model* и укажите *количество соседей* 1**  "
   ]
  },
  {
   "cell_type": "code",
   "execution_count": 18,
   "metadata": {},
   "outputs": [],
   "source": [
    "# Ваш код здесь"
   ]
  },
  {
   "cell_type": "markdown",
   "metadata": {},
   "source": [
    "Для построения модели на обучающем наборе, вызывается метод fit объекта model, который принимает в качестве аргументов массив\n",
    "NumPy **X_train**, содержащий обучающие данные, и массив NumPy **y_train**, соответствующий обучающим меткам.\n",
    "\n",
    "**10. Обучите модель**"
   ]
  },
  {
   "cell_type": "code",
   "execution_count": 7,
   "metadata": {},
   "outputs": [],
   "source": [
    "# Ваш код здесь"
   ]
  },
  {
   "cell_type": "markdown",
   "metadata": {},
   "source": [
    "Представьте, что Вы нашли в дикой природе ирис с длиной чашелистика 5 см, шириной чашелистика 2.9 см, длиной лепестка 1 см и шириной лепестка 0.2 см.\n",
    "\n",
    "**11. Создайте объект с именем *X_new* и поместите эти данные с использование массива NumPy** "
   ]
  },
  {
   "cell_type": "code",
   "execution_count": 8,
   "metadata": {},
   "outputs": [],
   "source": [
    "# Ваш код здесь"
   ]
  },
  {
   "cell_type": "markdown",
   "metadata": {},
   "source": [
    "**12.  К какому сорту ириса нужно отнести этот цветок? Чтобы сделать прогноз, используйте метод predict объекта model**"
   ]
  },
  {
   "cell_type": "code",
   "execution_count": 9,
   "metadata": {},
   "outputs": [],
   "source": [
    "# Ваш код здесь"
   ]
  },
  {
   "cell_type": "markdown",
   "metadata": {},
   "source": [
    "Ваш модель предсказывает, что этот новый цветок ириса принадлежит к какому-то классу, с обозначением сорта. Но как узнать, можно\n",
    "ли  доверять этой модели? \n",
    "\n",
    "**13. Оцените качество модели, вычислив accuracy  и score**"
   ]
  },
  {
   "cell_type": "code",
   "execution_count": 10,
   "metadata": {},
   "outputs": [],
   "source": [
    "# Ваш код здесь"
   ]
  },
  {
   "cell_type": "code",
   "execution_count": 11,
   "metadata": {},
   "outputs": [],
   "source": [
    "# Ваш код здесь"
   ]
  },
  {
   "cell_type": "markdown",
   "metadata": {},
   "source": [
    "### Синтетические наборы данных\n",
    "Синтетические наборы данных — это искусственно созданные наборы данных, которые используются для тестирования, разработки алгоритмов, обучения моделей и верификации методов анализа данных. Они могут быть полезны, когда реальные данные недоступны или когда нужно проверить алгоритмы на контролируемых условиях. \n",
    "### Классификационные данные\n",
    "Данные могут быть сгенерированы для задач классификации. Ниже указан один из способов создания набора данных для классификации\n",
    "\n",
    "**14. Напишите комментарий к каждой строке**"
   ]
  },
  {
   "cell_type": "code",
   "execution_count": 12,
   "metadata": {},
   "outputs": [],
   "source": [
    "# Ваш комментарий\n",
    "import numpy as np\n",
    " \n",
    "# Ваш комментарий\n",
    "np.random.seed(42)\n",
    "\n",
    "# Ваш комментарий\n",
    "n_samples_per_class = 13\n",
    "\n",
    "# Ваш комментарий\n",
    "X_class_0 = np.random.uniform(8.0, 11.0, size=(n_samples_per_class, 1))\n",
    "Y_class_0 = np.random.uniform(0, 4, size=(n_samples_per_class, 1))\n",
    "\n",
    "# Ваш комментарий\n",
    "X_class_1 = np.random.uniform(8.0, 11.0, size=(n_samples_per_class, 1))\n",
    "Y_class_1 = np.random.uniform(2, 6, size=(n_samples_per_class, 1))\n",
    "\n",
    "# Ваш комментарий\n",
    "X = np.vstack([np.hstack([X_class_0, Y_class_0]), np.hstack([X_class_1, Y_class_1])])\n",
    "y = np.array([0] * n_samples_per_class + [1] * n_samples_per_class)  "
   ]
  },
  {
   "cell_type": "markdown",
   "metadata": {},
   "source": [
    "**15. На основе классификационных данных из предыдущего вопроса и с использованием Scatter plot постройте график как на рисунке ниже**"
   ]
  },
  {
   "cell_type": "markdown",
   "metadata": {},
   "source": [
    "<img src=\"chpoint1_6.jpg\" width=500 height=500 align=\"left\"/>\n"
   ]
  },
  {
   "cell_type": "code",
   "execution_count": null,
   "metadata": {},
   "outputs": [],
   "source": [
    "# Ваш код здесь\n",
    "# Создаем график с шириной 8 дюймов×2.54 см/дюйм=20.32 см и высотой до 5 дюймов\n",
    "# Ваш код здесь\n",
    "\n",
    "# Отображаем первый класс с зелеными треугольниками\n",
    "# Ваш код здесь\n",
    "\n",
    "# Отображаем второй класс с синими кружочками\n",
    "# Ваш код здесь\n",
    "\n",
    "# добавим легенду и подписи\n",
    "# Ваш код здесь\n",
    "\n",
    "\"\"\"\n",
    "Значение параметра loc указывает, где расположить легенду на графике.\n",
    "    0: автоматическое размещение\n",
    "    1: верхний правый угол\n",
    "    2: верхний левый угол\n",
    "    3: нижний левый угол\n",
    "    4: нижний правый угол\n",
    "    5: по центру\n",
    "\"\"\"\n",
    "# устанавливаем пределы по оси X\n",
    "# Ваш код здесь\n",
    "# устанавливаем пределы по оси Y\n",
    "# Ваш код здесь"
   ]
  },
  {
   "cell_type": "markdown",
   "metadata": {},
   "source": [
    "### Реальные наборы данных\n",
    "Набор данных по раку молочной железы Университета Висконсин имеет записи клинических измерений опухолей молочной железы. Каждая опухоль обозначается как «benign» («доброкачественная», для неагрессивных опухолей) или malignant («злокачественная», для раковых опухолей), и задача состоит в том, чтобы на основании измерений ткани дать прогноз, является ли опухоль злокачественной.\n",
    "\n",
    "Данные можно загрузить из **scikit-learn** с помощью функции **load_breast_cancer**.\n",
    "\n",
    "**16. Загрузите его, вызвав функцию load_breast_cancer() и сохраните в объекте cancer_df**"
   ]
  },
  {
   "cell_type": "code",
   "execution_count": null,
   "metadata": {},
   "outputs": [],
   "source": [
    "# Ваш код здесь"
   ]
  },
  {
   "cell_type": "markdown",
   "metadata": {},
   "source": [
    "**17. Узнайте, сколько точек данных и признаков включает этот набор данных**"
   ]
  },
  {
   "cell_type": "code",
   "execution_count": null,
   "metadata": {},
   "outputs": [],
   "source": [
    "# Ваш код здесь"
   ]
  },
  {
   "cell_type": "markdown",
   "metadata": {},
   "source": [
    "**18. Сколько опухолей помечены как злокачественные и доброкачественные?**"
   ]
  },
  {
   "cell_type": "code",
   "execution_count": null,
   "metadata": {},
   "outputs": [],
   "source": [
    "# Ваш код здесь"
   ]
  },
  {
   "cell_type": "markdown",
   "metadata": {},
   "source": [
    "# Прогнозирование тарифов на такси\n",
    "Наборы данных из Kaggle **taxi-fares.csv**  сохраните в объекте taxi_df.\n",
    "\n",
    "**19. Переименуйте названия столбцов:**\n",
    "\n",
    "Названия столбцов:\n",
    "\n",
    "- key - ключ\n",
    "- fare_amount - стоимость_проезда\n",
    "- pickup_datetime - время_посадки\n",
    "- pickup_longitude - координаты_посадки_широта\n",
    "- pickup_latitude - координаты_посадки_долгота\n",
    "- dropoff_longitude - координаты_высадки_широта\n",
    "- dropoff_latitude - координаты высадки_долгота\n",
    "- passenger_count - количество_пассажиров"
   ]
  },
  {
   "cell_type": "code",
   "execution_count": 16,
   "metadata": {},
   "outputs": [],
   "source": [
    "# Ваш код здесь"
   ]
  },
  {
   "cell_type": "markdown",
   "metadata": {},
   "source": [
    "**20. С использованием параметра parse_dates функции read_csv выполните разбор строк в столбце pickup_datetime.**"
   ]
  },
  {
   "cell_type": "code",
   "execution_count": 17,
   "metadata": {},
   "outputs": [],
   "source": [
    "# Ваш код здесь"
   ]
  },
  {
   "cell_type": "markdown",
   "metadata": {},
   "source": [
    "**21. Узнайте количество записей и полей**"
   ]
  },
  {
   "cell_type": "code",
   "execution_count": 18,
   "metadata": {},
   "outputs": [],
   "source": [
    "# Ваш код здесь"
   ]
  },
  {
   "cell_type": "markdown",
   "metadata": {},
   "source": [
    "**22. Есть ли в столбцах отсутствующие значения?**"
   ]
  },
  {
   "cell_type": "code",
   "execution_count": 19,
   "metadata": {},
   "outputs": [],
   "source": [
    "# Ваш код здесь"
   ]
  },
  {
   "cell_type": "markdown",
   "metadata": {},
   "source": [
    "**23. С помощью метода countplot() постройте гистограмму, показывающую, сколько записей с количеством пассажиров = 1, сколько - 2 и т. д.**"
   ]
  },
  {
   "cell_type": "code",
   "execution_count": 20,
   "metadata": {},
   "outputs": [],
   "source": [
    "%matplotlib inline\n",
    "import matplotlib.pyplot as plt\n",
    "import seaborn as sns\n",
    "sns.set()\n",
    "\n",
    "# Ваш код здесь"
   ]
  },
  {
   "cell_type": "markdown",
   "metadata": {},
   "source": [
    "**24. Добавьте столбцы с указанием дня недели (0- понедельник (Monday), 1 - воскресенье (Sunday) и т. д.), часа дня, когда пассажира забрали (0-23)**"
   ]
  },
  {
   "cell_type": "code",
   "execution_count": null,
   "metadata": {},
   "outputs": [],
   "source": [
    "import datetime\n",
    "# просматриваем каждую строку в наборе \n",
    "for i, row in df.iterrows():\n",
    "    pass\n",
    "    # Ваш код здесь"
   ]
  },
  {
   "cell_type": "markdown",
   "metadata": {},
   "source": [
    "**25. Узнайте сколько пассажиров заказали такси в пятницу с 8:00 до 16:00**"
   ]
  },
  {
   "cell_type": "code",
   "execution_count": null,
   "metadata": {},
   "outputs": [],
   "source": [
    " # Ваш код здесь"
   ]
  },
  {
   "cell_type": "markdown",
   "metadata": {},
   "source": [
    "## Проект «Гутенберг»\n",
    "\n",
    "«Little Women» Louisa May Alcott можно загрузить по ссылке: https://www.gutenberg.org/ebooks/514\n",
    "\n",
    "Сохраните этот файл с именем Little_Women.txt. \n",
    "Для анализа удалите текст перед строкой: \\*\\*\\* START OF THE PROJECT GUTENBERG EBOOK LITTLE WOMEN \\*\\*\\*, а также текст в конце файла, начиная с текста: \\*\\*\\* END OF THE PROJECT GUTENBERG EBOOK LITTLE WOMEN \\*\\*\\*\n",
    "\n",
    "**26. Сохраните файл в объекте little_women_text, а названия глав сохраните в объекте little_women_chapters**"
   ]
  },
  {
   "cell_type": "code",
   "execution_count": 22,
   "metadata": {},
   "outputs": [],
   "source": [
    " # Ваш код здесь"
   ]
  },
  {
   "cell_type": "markdown",
   "metadata": {},
   "source": [
    "**27. Вывести главы «Little Women» в виде таблицы**"
   ]
  },
  {
   "cell_type": "code",
   "execution_count": null,
   "metadata": {},
   "outputs": [],
   "source": [
    " # Ваш код здесь"
   ]
  },
  {
   "cell_type": "markdown",
   "metadata": {},
   "source": [
    "**28. Посчитайте, сколько раз имена Amy, Meg и Jo встречаются в каждой главе**"
   ]
  },
  {
   "cell_type": "code",
   "execution_count": 23,
   "metadata": {},
   "outputs": [],
   "source": [
    " # Ваш код здесь"
   ]
  },
  {
   "cell_type": "markdown",
   "metadata": {},
   "source": [
    "**29. В каждой главе подсчитайте количество всех символов и сохраните в объекте 'Length'. Подсчитайте количество точек и сохраните в объекте 'Number of Periods'.**"
   ]
  },
  {
   "cell_type": "code",
   "execution_count": null,
   "metadata": {},
   "outputs": [],
   "source": [
    " # Ваш код здесь"
   ]
  },
  {
   "cell_type": "markdown",
   "metadata": {},
   "source": [
    "**30. Какая глава длиннее? Есть ли в последней главе около 100 точек?**"
   ]
  },
  {
   "cell_type": "code",
   "execution_count": null,
   "metadata": {},
   "outputs": [],
   "source": [
    " # Ваш код здесь"
   ]
  },
  {
   "cell_type": "markdown",
   "metadata": {},
   "source": [
    "## Работа с TextBlob\n",
    "В модуле textblob имеется класс **TextBlob** для NLP-операций. \n",
    "\n",
    "**31. С помощью данного класса создайте объект TextBlob с 10 предложениями из Little Women. Используя словарь word_counts подсчитайте частоты вхождения каждого слова.**"
   ]
  },
  {
   "cell_type": "code",
   "execution_count": null,
   "metadata": {},
   "outputs": [],
   "source": [
    " # Ваш код здесь"
   ]
  },
  {
   "cell_type": "markdown",
   "metadata": {},
   "source": [
    "**32. Визуализируйте частоты вхождения слов средствами Pandas**"
   ]
  },
  {
   "cell_type": "code",
   "execution_count": null,
   "metadata": {},
   "outputs": [],
   "source": [
    " # Ваш код здесь"
   ]
  },
  {
   "cell_type": "markdown",
   "metadata": {},
   "source": [
    "**33. Какое слово наиболее раз встречается в тексте?**"
   ]
  },
  {
   "cell_type": "code",
   "execution_count": null,
   "metadata": {},
   "outputs": [],
   "source": [
    " # Ваш код здесь"
   ]
  },
  {
   "cell_type": "markdown",
   "metadata": {},
   "source": [
    "# Модель обучения без учителя с использованием кластеризации k средних\n",
    "Для генерации случайного набора пар координат х и у используйте функцию make_blobs и функцию scatter из Matplotlib для их отображения на графике.\n",
    "\n",
    "**34. Сгенерируйте 250 экземпляров и нанесите на график**"
   ]
  },
  {
   "cell_type": "code",
   "execution_count": null,
   "metadata": {},
   "outputs": [],
   "source": [
    " # Ваш код здесь"
   ]
  },
  {
   "cell_type": "markdown",
   "metadata": {},
   "source": [
    "**35. Определите правильное количество кластеров с методом локтя**"
   ]
  },
  {
   "cell_type": "code",
   "execution_count": null,
   "metadata": {},
   "outputs": [],
   "source": [
    " # Ваш код здесь"
   ]
  },
  {
   "cell_type": "markdown",
   "metadata": {},
   "source": [
    "**36. Добавьте новую точку данных и определите к какому кластеру оно относится.**"
   ]
  },
  {
   "cell_type": "code",
   "execution_count": null,
   "metadata": {},
   "outputs": [],
   "source": [
    " # Ваш код здесь"
   ]
  },
  {
   "cell_type": "markdown",
   "metadata": {},
   "source": [
    "**37. Определите на графике какой это кластер?**"
   ]
  },
  {
   "cell_type": "code",
   "execution_count": 25,
   "metadata": {},
   "outputs": [],
   "source": [
    " # Ваш код здесь"
   ]
  },
  {
   "cell_type": "markdown",
   "metadata": {},
   "source": [
    "**38. Определите расстояние от данной точки до каждого центра.**"
   ]
  },
  {
   "cell_type": "code",
   "execution_count": null,
   "metadata": {},
   "outputs": [],
   "source": [
    " # Ваш код здесь"
   ]
  },
  {
   "cell_type": "markdown",
   "metadata": {},
   "source": [
    "**39.Как найти центроид в кластеризации k-средних?**"
   ]
  },
  {
   "cell_type": "code",
   "execution_count": 26,
   "metadata": {},
   "outputs": [],
   "source": [
    " # Ваш ответ"
   ]
  },
  {
   "cell_type": "markdown",
   "metadata": {},
   "source": [
    "**40. Какие задачи можно решить с помощью K-means кластеризация**"
   ]
  },
  {
   "cell_type": "code",
   "execution_count": null,
   "metadata": {},
   "outputs": [],
   "source": [
    " # Ваш ответ"
   ]
  }
 ],
 "metadata": {
  "anaconda-cloud": {},
  "kernelspec": {
   "display_name": "env",
   "language": "python",
   "name": "python3"
  },
  "language_info": {
   "codemirror_mode": {
    "name": "ipython",
    "version": 3
   },
   "file_extension": ".py",
   "mimetype": "text/x-python",
   "name": "python",
   "nbconvert_exporter": "python",
   "pygments_lexer": "ipython3",
   "version": "3.12.2"
  }
 },
 "nbformat": 4,
 "nbformat_minor": 4
}
