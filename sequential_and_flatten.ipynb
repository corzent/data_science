{
 "cells": [
  {
   "cell_type": "markdown",
   "metadata": {},
   "source": [
    "# nn.Sequential"
   ]
  },
  {
   "cell_type": "markdown",
   "metadata": {},
   "source": [
    "`torch.nn.Sequential` — это контейнер, который используется для упрощения создания моделей нейронных сетей, когда слои идут друг за другом.\n",
    "\n",
    "Так называемый `a sequential container`. Модули будут добавляться в него в том порядке, в котором они переданы в конструктор. В качестве альтернативы можно передать упорядоченный список модулей (`OrderedDict`). Метод `forward()` в `Sequential` принимает любой входной сигнал и направляет его в первый модуль, который в нем содержится. Затем он \"цепляет\" выходы к входам последовательно для каждого последующего модуля и, наконец, возвращает выход последнего модуля.\n",
    "\n",
    "По сравнению с ручным вызовом последовательности модулей `Sequential` ценен тем, что позволяет рассматривать весь контейнер как единый модуль, так что выполнение преобразований в `Sequential` применяется к каждому из хранящихся в нем модулей (каждый из которых является зарегистрированным подмодулем `Sequential`).\n",
    "\n",
    "Есть еще `torch.nn.ModuleList`, но как уже говорит название это просто список для хранения модулей, это может быть полезно, когда вам нужно итерировать слой. В свою очередь, слои `Sequential` соединяются друг за другом, то есть выход одного слоя автоматически становится входом для следующего слоя."
   ]
  },
  {
   "cell_type": "code",
   "execution_count": 5,
   "metadata": {},
   "outputs": [
    {
     "name": "stdout",
     "output_type": "stream",
     "text": [
      "tensor([[-0.0134]], grad_fn=<AddmmBackward0>)\n"
     ]
    }
   ],
   "source": [
    "import torch\n",
    "import torch.nn as nn\n",
    "\n",
    "model = nn.Sequential(\n",
    "    nn.Linear(10, 50),  # вход 10 нейронов, выход 50\n",
    "    nn.ReLU(),          # функция активации ReLU\n",
    "    nn.Linear(50, 20),  # вход 50 нейронов, выход 20\n",
    "    nn.ReLU(),\n",
    "    nn.Linear(20, 1)    # вход 20 нейронов, выход 1\n",
    ")\n",
    "\n",
    "x = torch.randn(1, 10) # 1 запись, 10 признаков\n",
    "output = model(x)\n",
    "\n",
    "print(output)"
   ]
  },
  {
   "cell_type": "markdown",
   "metadata": {},
   "source": [
    "### Почему стоит использовать `nn.Sequential`?\n",
    "- Простота: Он предоставляет чистый и краткий способ определения моделей без необходимости явно прописывать метод `forward`.\n",
    "- Читаемость: Последовательная структура контейнера упрощает понимание потока данных через сеть.\n",
    "- Удобство: Идеально подходит для быстрого создания прототипов простых моделей."
   ]
  },
  {
   "cell_type": "markdown",
   "metadata": {},
   "source": [
    "# torch.flatten\n",
    "\n",
    "`torch.flatten(input, start_dim=0, end_dim=-1) → Tensor`"
   ]
  },
  {
   "cell_type": "markdown",
   "metadata": {},
   "source": [
    "`Flatten` преобразует многомерный тензор в одномерный, что делает его совместимым с линейными слоями. Если переданы `start_dim` или `end_dim`, то сплющиваются только измерения, начинающиеся с `start_dim` и заканчивающиеся `end_dim`. Порядок элементов во входных данных не изменяется."
   ]
  },
  {
   "cell_type": "code",
   "execution_count": 6,
   "metadata": {},
   "outputs": [
    {
     "data": {
      "text/plain": [
       "tensor([[1, 2, 3, 4],\n",
       "        [5, 6, 7, 8]])"
      ]
     },
     "execution_count": 6,
     "metadata": {},
     "output_type": "execute_result"
    }
   ],
   "source": [
    "t = torch.tensor([[[1, 2],\n",
    "                   [3, 4]],\n",
    "                  [[5, 6],\n",
    "                   [7, 8]]])\n",
    "torch.flatten(t)\n",
    "torch.flatten(t, start_dim=1)"
   ]
  },
  {
   "cell_type": "markdown",
   "metadata": {},
   "source": [
    "Источники: \n",
    "* https://pytorch.org/docs/stable/generated/torch.nn.Sequential.html\n",
    "* https://pytorch.org/docs/stable/generated/torch.flatten.html#torch.flatten\n",
    "* https://www.geeksforgeeks.org/how-to-flatten-input-in-nn-sequential-in-pytorch/\n",
    "* https://github.com/FrancescoSaverioZuppichini/Pytorch-how-and-when-to-use-Module-Sequential-ModuleList-and-ModuleDict"
   ]
  },
  {
   "cell_type": "markdown",
   "metadata": {},
   "source": []
  }
 ],
 "metadata": {
  "kernelspec": {
   "display_name": "env",
   "language": "python",
   "name": "python3"
  },
  "language_info": {
   "codemirror_mode": {
    "name": "ipython",
    "version": 3
   },
   "file_extension": ".py",
   "mimetype": "text/x-python",
   "name": "python",
   "nbconvert_exporter": "python",
   "pygments_lexer": "ipython3",
   "version": "3.12.3"
  }
 },
 "nbformat": 4,
 "nbformat_minor": 2
}
