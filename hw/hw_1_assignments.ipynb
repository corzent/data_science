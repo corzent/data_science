{
 "cells": [
  {
   "cell_type": "markdown",
   "metadata": {},
   "source": [
    "## Assignment 1"
   ]
  },
  {
   "cell_type": "code",
   "execution_count": 1,
   "metadata": {},
   "outputs": [],
   "source": [
    "some_number = int(input('Type any int number: '))\n",
    "\n",
    "def power_of_two(x):\n",
    "    return x ** 2"
   ]
  },
  {
   "cell_type": "code",
   "execution_count": 2,
   "metadata": {},
   "outputs": [
    {
     "data": {
      "text/plain": [
       "4"
      ]
     },
     "execution_count": 2,
     "metadata": {},
     "output_type": "execute_result"
    }
   ],
   "source": [
    "power_of_two(some_number)"
   ]
  },
  {
   "cell_type": "markdown",
   "metadata": {},
   "source": [
    "## Assignment 2\n",
    "\n",
    "Create a function to display the name of students. The name of the students stored in a list. Find all students whos name is started by 'A' letter."
   ]
  },
  {
   "cell_type": "code",
   "execution_count": 5,
   "metadata": {},
   "outputs": [],
   "source": [
    "names_of_students = ['John', 'Max', 'Bill', 'Alex', 'asty']\n",
    "\n",
    "def display_name_started_a(names):\n",
    "    for name in names:\n",
    "        if name.upper().startswith('A'):\n",
    "            print(name)"
   ]
  },
  {
   "cell_type": "code",
   "execution_count": 6,
   "metadata": {},
   "outputs": [
    {
     "name": "stdout",
     "output_type": "stream",
     "text": [
      "Alex\n",
      "asty\n"
     ]
    }
   ],
   "source": [
    "display_name_started_a(names_of_students)"
   ]
  },
  {
   "cell_type": "markdown",
   "metadata": {},
   "source": [
    "## Assignment 3\n",
    "\n",
    "For the numbers (1, 2, 3, 4), find the square and cube of these numbers, then build a graph."
   ]
  },
  {
   "cell_type": "code",
   "execution_count": 10,
   "metadata": {},
   "outputs": [],
   "source": [
    "x =[1, 2, 3, 4]\n",
    "y = [i**2 for i in x]\n",
    "z = [i**3 for i in x]"
   ]
  },
  {
   "cell_type": "code",
   "execution_count": 21,
   "metadata": {},
   "outputs": [
    {
     "data": {
      "text/plain": [
       "Text(0, 0.5, 'Y')"
      ]
     },
     "execution_count": 21,
     "metadata": {},
     "output_type": "execute_result"
    },
    {
     "data": {
      "image/png": "[encoded data removed]",
      "text/plain": [
       "<Figure size 640x480 with 1 Axes>"
      ]
     },
     "metadata": {},
     "output_type": "display_data"
    }
   ],
   "source": [
    "import matplotlib.pyplot as plt\n",
    "\n",
    "plt.plot(x, y, label='x**2')\n",
    "plt.plot(x, z, label='x**3')\n",
    "plt.legend()\n",
    "plt.xlabel('X')\n",
    "plt.ylabel('Y')"
   ]
  },
  {
   "cell_type": "markdown",
   "metadata": {},
   "source": [
    "## Assignment 4\n",
    "\n",
    "There is data on 5 students, with their names, phone numbers, and the amount they spend on lunch given. Find the student whose phone number is 'O!' and who spends more than 500 soms on lunch."
   ]
  },
  {
   "cell_type": "code",
   "execution_count": 1,
   "metadata": {},
   "outputs": [
    {
     "name": "stdout",
     "output_type": "stream",
     "text": [
      "Max spends more than 500 soms on lunch and phone number is \"O!\"\n"
     ]
    }
   ],
   "source": [
    "students = [\n",
    "    {'name': 'Alex', 'phone': '0708345784', 'lunch_spent': 300},\n",
    "    {'name': 'Bill', 'phone': '0777345784', 'lunch_spent': 550},\n",
    "    {'name': 'Max', 'phone': '0508387784', 'lunch_spent': 750},\n",
    "    {'name': 'Asty', 'phone': '0222345784', 'lunch_spent': 600},\n",
    "]\n",
    "\n",
    "for student in students:\n",
    "    if student['lunch_spent'] > 500 and student['phone'][2] == '0':\n",
    "        print(f'{student['name']} spends more than 500 soms on lunch and phone number is \"O!\"')\n"
   ]
  },
  {
   "cell_type": "code",
   "execution_count": null,
   "metadata": {},
   "outputs": [],
   "source": []
  }
 ],
 "metadata": {
  "kernelspec": {
   "display_name": ".venv",
   "language": "python",
   "name": "python3"
  },
  "language_info": {
   "codemirror_mode": {
    "name": "ipython",
    "version": 3
   },
   "file_extension": ".py",
   "mimetype": "text/x-python",
   "name": "python",
   "nbconvert_exporter": "python",
   "pygments_lexer": "ipython3",
   "version": "3.12.2"
  }
 },
 "nbformat": 4,
 "nbformat_minor": 2
}
