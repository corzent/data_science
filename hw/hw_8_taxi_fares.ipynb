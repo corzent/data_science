{
 "cells": [
  {
   "cell_type": "code",
   "execution_count": 1,
   "metadata": {},
   "outputs": [
    {
     "data": {
      "text/html": [
       "<div>\n",
       "<style scoped>\n",
       "    .dataframe tbody tr th:only-of-type {\n",
       "        vertical-align: middle;\n",
       "    }\n",
       "\n",
       "    .dataframe tbody tr th {\n",
       "        vertical-align: top;\n",
       "    }\n",
       "\n",
       "    .dataframe thead th {\n",
       "        text-align: right;\n",
       "    }\n",
       "</style>\n",
       "<table border=\"1\" class=\"dataframe\">\n",
       "  <thead>\n",
       "    <tr style=\"text-align: right;\">\n",
       "      <th></th>\n",
       "      <th>key</th>\n",
       "      <th>fare_amount</th>\n",
       "      <th>pickup_datetime</th>\n",
       "      <th>pickup_longitude</th>\n",
       "      <th>pickup_latitude</th>\n",
       "      <th>dropoff_longitude</th>\n",
       "      <th>dropoff_latitude</th>\n",
       "      <th>passenger_count</th>\n",
       "    </tr>\n",
       "  </thead>\n",
       "  <tbody>\n",
       "    <tr>\n",
       "      <th>0</th>\n",
       "      <td>2014-06-15 17:11:00.000000107</td>\n",
       "      <td>7.0</td>\n",
       "      <td>2014-06-15 17:11:00+00:00</td>\n",
       "      <td>-73.995420</td>\n",
       "      <td>40.759662</td>\n",
       "      <td>-73.987607</td>\n",
       "      <td>40.751247</td>\n",
       "      <td>1</td>\n",
       "    </tr>\n",
       "    <tr>\n",
       "      <th>1</th>\n",
       "      <td>2011-03-14 22:43:00.00000095</td>\n",
       "      <td>4.9</td>\n",
       "      <td>2011-03-14 22:43:00+00:00</td>\n",
       "      <td>-73.993552</td>\n",
       "      <td>40.731110</td>\n",
       "      <td>-73.998497</td>\n",
       "      <td>40.737200</td>\n",
       "      <td>5</td>\n",
       "    </tr>\n",
       "    <tr>\n",
       "      <th>2</th>\n",
       "      <td>2011-02-14 15:14:00.00000067</td>\n",
       "      <td>6.1</td>\n",
       "      <td>2011-02-14 15:14:00+00:00</td>\n",
       "      <td>-73.972380</td>\n",
       "      <td>40.749527</td>\n",
       "      <td>-73.990638</td>\n",
       "      <td>40.745328</td>\n",
       "      <td>1</td>\n",
       "    </tr>\n",
       "    <tr>\n",
       "      <th>3</th>\n",
       "      <td>2009-10-29 11:29:00.00000040</td>\n",
       "      <td>6.9</td>\n",
       "      <td>2009-10-29 11:29:00+00:00</td>\n",
       "      <td>-73.973703</td>\n",
       "      <td>40.763542</td>\n",
       "      <td>-73.984253</td>\n",
       "      <td>40.758603</td>\n",
       "      <td>5</td>\n",
       "    </tr>\n",
       "    <tr>\n",
       "      <th>4</th>\n",
       "      <td>2011-07-02 10:38:00.00000028</td>\n",
       "      <td>10.5</td>\n",
       "      <td>2011-07-02 10:38:00+00:00</td>\n",
       "      <td>-73.921262</td>\n",
       "      <td>40.743615</td>\n",
       "      <td>-73.967383</td>\n",
       "      <td>40.765162</td>\n",
       "      <td>1</td>\n",
       "    </tr>\n",
       "  </tbody>\n",
       "</table>\n",
       "</div>"
      ],
      "text/plain": [
       "                             key  fare_amount           pickup_datetime  \\\n",
       "0  2014-06-15 17:11:00.000000107          7.0 2014-06-15 17:11:00+00:00   \n",
       "1   2011-03-14 22:43:00.00000095          4.9 2011-03-14 22:43:00+00:00   \n",
       "2   2011-02-14 15:14:00.00000067          6.1 2011-02-14 15:14:00+00:00   \n",
       "3   2009-10-29 11:29:00.00000040          6.9 2009-10-29 11:29:00+00:00   \n",
       "4   2011-07-02 10:38:00.00000028         10.5 2011-07-02 10:38:00+00:00   \n",
       "\n",
       "   pickup_longitude  pickup_latitude  dropoff_longitude  dropoff_latitude  \\\n",
       "0        -73.995420        40.759662         -73.987607         40.751247   \n",
       "1        -73.993552        40.731110         -73.998497         40.737200   \n",
       "2        -73.972380        40.749527         -73.990638         40.745328   \n",
       "3        -73.973703        40.763542         -73.984253         40.758603   \n",
       "4        -73.921262        40.743615         -73.967383         40.765162   \n",
       "\n",
       "   passenger_count  \n",
       "0                1  \n",
       "1                5  \n",
       "2                1  \n",
       "3                5  \n",
       "4                1  "
      ]
     },
     "execution_count": 1,
     "metadata": {},
     "output_type": "execute_result"
    }
   ],
   "source": [
    "import pandas as pd\n",
    "df = pd.read_csv('data/taxi-fares.csv', parse_dates=['pickup_datetime'])\n",
    "df.head()"
   ]
  },
  {
   "cell_type": "code",
   "execution_count": 2,
   "metadata": {},
   "outputs": [
    {
     "data": {
      "text/html": [
       "<div>\n",
       "<style scoped>\n",
       "    .dataframe tbody tr th:only-of-type {\n",
       "        vertical-align: middle;\n",
       "    }\n",
       "\n",
       "    .dataframe tbody tr th {\n",
       "        vertical-align: top;\n",
       "    }\n",
       "\n",
       "    .dataframe thead th {\n",
       "        text-align: right;\n",
       "    }\n",
       "</style>\n",
       "<table border=\"1\" class=\"dataframe\">\n",
       "  <thead>\n",
       "    <tr style=\"text-align: right;\">\n",
       "      <th></th>\n",
       "      <th>fare_amount</th>\n",
       "      <th>day_of_week</th>\n",
       "      <th>pickup_time</th>\n",
       "      <th>distance</th>\n",
       "    </tr>\n",
       "  </thead>\n",
       "  <tbody>\n",
       "    <tr>\n",
       "      <th>2</th>\n",
       "      <td>6.1</td>\n",
       "      <td>0.0</td>\n",
       "      <td>15.0</td>\n",
       "      <td>1.038136</td>\n",
       "    </tr>\n",
       "    <tr>\n",
       "      <th>4</th>\n",
       "      <td>10.5</td>\n",
       "      <td>5.0</td>\n",
       "      <td>10.0</td>\n",
       "      <td>2.924341</td>\n",
       "    </tr>\n",
       "    <tr>\n",
       "      <th>5</th>\n",
       "      <td>15.3</td>\n",
       "      <td>4.0</td>\n",
       "      <td>20.0</td>\n",
       "      <td>4.862893</td>\n",
       "    </tr>\n",
       "    <tr>\n",
       "      <th>8</th>\n",
       "      <td>7.7</td>\n",
       "      <td>5.0</td>\n",
       "      <td>1.0</td>\n",
       "      <td>2.603493</td>\n",
       "    </tr>\n",
       "    <tr>\n",
       "      <th>9</th>\n",
       "      <td>8.9</td>\n",
       "      <td>3.0</td>\n",
       "      <td>16.0</td>\n",
       "      <td>1.365739</td>\n",
       "    </tr>\n",
       "  </tbody>\n",
       "</table>\n",
       "</div>"
      ],
      "text/plain": [
       "   fare_amount  day_of_week  pickup_time  distance\n",
       "2          6.1          0.0         15.0  1.038136\n",
       "4         10.5          5.0         10.0  2.924341\n",
       "5         15.3          4.0         20.0  4.862893\n",
       "8          7.7          5.0          1.0  2.603493\n",
       "9          8.9          3.0         16.0  1.365739"
      ]
     },
     "execution_count": 2,
     "metadata": {},
     "output_type": "execute_result"
    }
   ],
   "source": [
    "from math import sqrt\n",
    "\n",
    "df = df[df['passenger_count'] == 1]\n",
    "df = df.drop(['key', 'passenger_count'], axis=1)\n",
    "\n",
    "for i, row in df.iterrows():\n",
    "    dt = row['pickup_datetime']\n",
    "    df.at[i, 'day_of_week'] = dt.weekday()\n",
    "    df.at[i, 'pickup_time'] = dt.hour\n",
    "    x = (row['dropoff_longitude'] - row['pickup_longitude']) * 54.6\n",
    "    y = (row['dropoff_latitude'] - row['pickup_latitude']) * 69.0\n",
    "    distance = sqrt(x**2 + y**2)\n",
    "    df.at[i, 'distance'] = distance\n",
    "\n",
    "df.drop(['pickup_datetime', 'pickup_longitude', 'pickup_latitude', \n",
    "         'dropoff_longitude', 'dropoff_latitude'], axis=1, inplace=True)\n",
    "\n",
    "df = df[(df['distance'] > 1.0) & (df['distance'] < 10.0)]\n",
    "df = df[(df['fare_amount'] > 0.0) & (df['fare_amount'] < 50.0)]\n",
    "\n",
    "df.head()"
   ]
  },
  {
   "cell_type": "code",
   "execution_count": 3,
   "metadata": {},
   "outputs": [
    {
     "name": "stderr",
     "output_type": "stream",
     "text": [
      "/Users/daniyar/notes/kstu/f2024/data_science/env/lib/python3.12/site-packages/keras/src/layers/core/dense.py:87: UserWarning: Do not pass an `input_shape`/`input_dim` argument to a layer. When using Sequential models, prefer using an `Input(shape)` object as the first layer in the model instead.\n",
      "  super().__init__(activity_regularizer=activity_regularizer, **kwargs)\n"
     ]
    },
    {
     "data": {
      "text/html": [
       "<pre style=\"white-space:pre;overflow-x:auto;line-height:normal;font-family:Menlo,'DejaVu Sans Mono',consolas,'Courier New',monospace\"><span style=\"font-weight: bold\">Model: \"sequential\"</span>\n",
       "</pre>\n"
      ],
      "text/plain": [
       "\u001b[1mModel: \"sequential\"\u001b[0m\n"
      ]
     },
     "metadata": {},
     "output_type": "display_data"
    },
    {
     "data": {
      "text/html": [
       "<pre style=\"white-space:pre;overflow-x:auto;line-height:normal;font-family:Menlo,'DejaVu Sans Mono',consolas,'Courier New',monospace\">┏━━━━━━━━━━━━━━━━━━━━━━━━━━━━━━━━━┳━━━━━━━━━━━━━━━━━━━━━━━━┳━━━━━━━━━━━━━━━┓\n",
       "┃<span style=\"font-weight: bold\"> Layer (type)                    </span>┃<span style=\"font-weight: bold\"> Output Shape           </span>┃<span style=\"font-weight: bold\">       Param # </span>┃\n",
       "┡━━━━━━━━━━━━━━━━━━━━━━━━━━━━━━━━━╇━━━━━━━━━━━━━━━━━━━━━━━━╇━━━━━━━━━━━━━━━┩\n",
       "│ dense (<span style=\"color: #0087ff; text-decoration-color: #0087ff\">Dense</span>)                   │ (<span style=\"color: #00d7ff; text-decoration-color: #00d7ff\">None</span>, <span style=\"color: #00af00; text-decoration-color: #00af00\">16</span>)             │            <span style=\"color: #00af00; text-decoration-color: #00af00\">64</span> │\n",
       "├─────────────────────────────────┼────────────────────────┼───────────────┤\n",
       "│ dense_1 (<span style=\"color: #0087ff; text-decoration-color: #0087ff\">Dense</span>)                 │ (<span style=\"color: #00d7ff; text-decoration-color: #00d7ff\">None</span>, <span style=\"color: #00af00; text-decoration-color: #00af00\">1</span>)              │            <span style=\"color: #00af00; text-decoration-color: #00af00\">17</span> │\n",
       "└─────────────────────────────────┴────────────────────────┴───────────────┘\n",
       "</pre>\n"
      ],
      "text/plain": [
       "┏━━━━━━━━━━━━━━━━━━━━━━━━━━━━━━━━━┳━━━━━━━━━━━━━━━━━━━━━━━━┳━━━━━━━━━━━━━━━┓\n",
       "┃\u001b[1m \u001b[0m\u001b[1mLayer (type)                   \u001b[0m\u001b[1m \u001b[0m┃\u001b[1m \u001b[0m\u001b[1mOutput Shape          \u001b[0m\u001b[1m \u001b[0m┃\u001b[1m \u001b[0m\u001b[1m      Param #\u001b[0m\u001b[1m \u001b[0m┃\n",
       "┡━━━━━━━━━━━━━━━━━━━━━━━━━━━━━━━━━╇━━━━━━━━━━━━━━━━━━━━━━━━╇━━━━━━━━━━━━━━━┩\n",
       "│ dense (\u001b[38;5;33mDense\u001b[0m)                   │ (\u001b[38;5;45mNone\u001b[0m, \u001b[38;5;34m16\u001b[0m)             │            \u001b[38;5;34m64\u001b[0m │\n",
       "├─────────────────────────────────┼────────────────────────┼───────────────┤\n",
       "│ dense_1 (\u001b[38;5;33mDense\u001b[0m)                 │ (\u001b[38;5;45mNone\u001b[0m, \u001b[38;5;34m1\u001b[0m)              │            \u001b[38;5;34m17\u001b[0m │\n",
       "└─────────────────────────────────┴────────────────────────┴───────────────┘\n"
      ]
     },
     "metadata": {},
     "output_type": "display_data"
    },
    {
     "data": {
      "text/html": [
       "<pre style=\"white-space:pre;overflow-x:auto;line-height:normal;font-family:Menlo,'DejaVu Sans Mono',consolas,'Courier New',monospace\"><span style=\"font-weight: bold\"> Total params: </span><span style=\"color: #00af00; text-decoration-color: #00af00\">81</span> (324.00 B)\n",
       "</pre>\n"
      ],
      "text/plain": [
       "\u001b[1m Total params: \u001b[0m\u001b[38;5;34m81\u001b[0m (324.00 B)\n"
      ]
     },
     "metadata": {},
     "output_type": "display_data"
    },
    {
     "data": {
      "text/html": [
       "<pre style=\"white-space:pre;overflow-x:auto;line-height:normal;font-family:Menlo,'DejaVu Sans Mono',consolas,'Courier New',monospace\"><span style=\"font-weight: bold\"> Trainable params: </span><span style=\"color: #00af00; text-decoration-color: #00af00\">81</span> (324.00 B)\n",
       "</pre>\n"
      ],
      "text/plain": [
       "\u001b[1m Trainable params: \u001b[0m\u001b[38;5;34m81\u001b[0m (324.00 B)\n"
      ]
     },
     "metadata": {},
     "output_type": "display_data"
    },
    {
     "data": {
      "text/html": [
       "<pre style=\"white-space:pre;overflow-x:auto;line-height:normal;font-family:Menlo,'DejaVu Sans Mono',consolas,'Courier New',monospace\"><span style=\"font-weight: bold\"> Non-trainable params: </span><span style=\"color: #00af00; text-decoration-color: #00af00\">0</span> (0.00 B)\n",
       "</pre>\n"
      ],
      "text/plain": [
       "\u001b[1m Non-trainable params: \u001b[0m\u001b[38;5;34m0\u001b[0m (0.00 B)\n"
      ]
     },
     "metadata": {},
     "output_type": "display_data"
    }
   ],
   "source": [
    "from tensorflow.keras.models import Sequential\n",
    "from tensorflow.keras.layers import Dense\n",
    "\n",
    "model = Sequential()\n",
    "model.add(Dense(16, activation='relu', input_dim=3))\n",
    "model.add(Dense(1))\n",
    "model.compile(optimizer='adam', loss='mae', metrics=['mae'])\n",
    "model.summary()"
   ]
  },
  {
   "cell_type": "code",
   "execution_count": 4,
   "metadata": {},
   "outputs": [
    {
     "name": "stdout",
     "output_type": "stream",
     "text": [
      "Epoch 1/100\n",
      "\u001b[1m187/187\u001b[0m \u001b[32m━━━━━━━━━━━━━━━━━━━━\u001b[0m\u001b[37m\u001b[0m \u001b[1m0s\u001b[0m 690us/step - loss: 5.2751 - mae: 5.2751 - val_loss: 3.3321 - val_mae: 3.3321\n",
      "Epoch 2/100\n",
      "\u001b[1m187/187\u001b[0m \u001b[32m━━━━━━━━━━━━━━━━━━━━\u001b[0m\u001b[37m\u001b[0m \u001b[1m0s\u001b[0m 411us/step - loss: 2.8300 - mae: 2.8300 - val_loss: 2.4094 - val_mae: 2.4094\n",
      "Epoch 3/100\n",
      "\u001b[1m187/187\u001b[0m \u001b[32m━━━━━━━━━━━━━━━━━━━━\u001b[0m\u001b[37m\u001b[0m \u001b[1m0s\u001b[0m 405us/step - loss: 2.3913 - mae: 2.3913 - val_loss: 2.3893 - val_mae: 2.3893\n",
      "Epoch 4/100\n",
      "\u001b[1m187/187\u001b[0m \u001b[32m━━━━━━━━━━━━━━━━━━━━\u001b[0m\u001b[37m\u001b[0m \u001b[1m0s\u001b[0m 409us/step - loss: 2.3960 - mae: 2.3960 - val_loss: 2.3799 - val_mae: 2.3799\n",
      "Epoch 5/100\n",
      "\u001b[1m187/187\u001b[0m \u001b[32m━━━━━━━━━━━━━━━━━━━━\u001b[0m\u001b[37m\u001b[0m \u001b[1m0s\u001b[0m 415us/step - loss: 2.4001 - mae: 2.4001 - val_loss: 2.3944 - val_mae: 2.3944\n",
      "Epoch 6/100\n",
      "\u001b[1m187/187\u001b[0m \u001b[32m━━━━━━━━━━━━━━━━━━━━\u001b[0m\u001b[37m\u001b[0m \u001b[1m0s\u001b[0m 409us/step - loss: 2.3521 - mae: 2.3521 - val_loss: 2.3718 - val_mae: 2.3718\n",
      "Epoch 7/100\n",
      "\u001b[1m187/187\u001b[0m \u001b[32m━━━━━━━━━━━━━━━━━━━━\u001b[0m\u001b[37m\u001b[0m \u001b[1m0s\u001b[0m 528us/step - loss: 2.3698 - mae: 2.3698 - val_loss: 2.3746 - val_mae: 2.3746\n",
      "Epoch 8/100\n",
      "\u001b[1m187/187\u001b[0m \u001b[32m━━━━━━━━━━━━━━━━━━━━\u001b[0m\u001b[37m\u001b[0m \u001b[1m0s\u001b[0m 519us/step - loss: 2.3897 - mae: 2.3897 - val_loss: 2.3882 - val_mae: 2.3882\n",
      "Epoch 9/100\n",
      "\u001b[1m187/187\u001b[0m \u001b[32m━━━━━━━━━━━━━━━━━━━━\u001b[0m\u001b[37m\u001b[0m \u001b[1m0s\u001b[0m 476us/step - loss: 2.3794 - mae: 2.3794 - val_loss: 2.3701 - val_mae: 2.3701\n",
      "Epoch 10/100\n",
      "\u001b[1m187/187\u001b[0m \u001b[32m━━━━━━━━━━━━━━━━━━━━\u001b[0m\u001b[37m\u001b[0m \u001b[1m0s\u001b[0m 468us/step - loss: 2.3666 - mae: 2.3666 - val_loss: 2.3710 - val_mae: 2.3710\n",
      "Epoch 11/100\n",
      "\u001b[1m187/187\u001b[0m \u001b[32m━━━━━━━━━━━━━━━━━━━━\u001b[0m\u001b[37m\u001b[0m \u001b[1m0s\u001b[0m 446us/step - loss: 2.3537 - mae: 2.3537 - val_loss: 2.3690 - val_mae: 2.3690\n",
      "Epoch 12/100\n",
      "\u001b[1m187/187\u001b[0m \u001b[32m━━━━━━━━━━━━━━━━━━━━\u001b[0m\u001b[37m\u001b[0m \u001b[1m0s\u001b[0m 427us/step - loss: 2.3487 - mae: 2.3487 - val_loss: 2.3703 - val_mae: 2.3703\n",
      "Epoch 13/100\n",
      "\u001b[1m187/187\u001b[0m \u001b[32m━━━━━━━━━━━━━━━━━━━━\u001b[0m\u001b[37m\u001b[0m \u001b[1m0s\u001b[0m 429us/step - loss: 2.3674 - mae: 2.3674 - val_loss: 2.3694 - val_mae: 2.3694\n",
      "Epoch 14/100\n",
      "\u001b[1m187/187\u001b[0m \u001b[32m━━━━━━━━━━━━━━━━━━━━\u001b[0m\u001b[37m\u001b[0m \u001b[1m0s\u001b[0m 431us/step - loss: 2.3775 - mae: 2.3775 - val_loss: 2.3706 - val_mae: 2.3706\n",
      "Epoch 15/100\n",
      "\u001b[1m187/187\u001b[0m \u001b[32m━━━━━━━━━━━━━━━━━━━━\u001b[0m\u001b[37m\u001b[0m \u001b[1m0s\u001b[0m 462us/step - loss: 2.3780 - mae: 2.3780 - val_loss: 2.3715 - val_mae: 2.3715\n",
      "Epoch 16/100\n",
      "\u001b[1m187/187\u001b[0m \u001b[32m━━━━━━━━━━━━━━━━━━━━\u001b[0m\u001b[37m\u001b[0m \u001b[1m0s\u001b[0m 434us/step - loss: 2.3727 - mae: 2.3727 - val_loss: 2.3698 - val_mae: 2.3698\n",
      "Epoch 17/100\n",
      "\u001b[1m187/187\u001b[0m \u001b[32m━━━━━━━━━━━━━━━━━━━━\u001b[0m\u001b[37m\u001b[0m \u001b[1m0s\u001b[0m 417us/step - loss: 2.3660 - mae: 2.3660 - val_loss: 2.3692 - val_mae: 2.3692\n",
      "Epoch 18/100\n",
      "\u001b[1m187/187\u001b[0m \u001b[32m━━━━━━━━━━━━━━━━━━━━\u001b[0m\u001b[37m\u001b[0m \u001b[1m0s\u001b[0m 430us/step - loss: 2.3578 - mae: 2.3578 - val_loss: 2.3703 - val_mae: 2.3703\n",
      "Epoch 19/100\n",
      "\u001b[1m187/187\u001b[0m \u001b[32m━━━━━━━━━━━━━━━━━━━━\u001b[0m\u001b[37m\u001b[0m \u001b[1m0s\u001b[0m 418us/step - loss: 2.3541 - mae: 2.3541 - val_loss: 2.3973 - val_mae: 2.3973\n",
      "Epoch 20/100\n",
      "\u001b[1m187/187\u001b[0m \u001b[32m━━━━━━━━━━━━━━━━━━━━\u001b[0m\u001b[37m\u001b[0m \u001b[1m0s\u001b[0m 432us/step - loss: 2.3879 - mae: 2.3879 - val_loss: 2.3708 - val_mae: 2.3708\n",
      "Epoch 21/100\n",
      "\u001b[1m187/187\u001b[0m \u001b[32m━━━━━━━━━━━━━━━━━━━━\u001b[0m\u001b[37m\u001b[0m \u001b[1m0s\u001b[0m 445us/step - loss: 2.3800 - mae: 2.3800 - val_loss: 2.3678 - val_mae: 2.3678\n",
      "Epoch 22/100\n",
      "\u001b[1m187/187\u001b[0m \u001b[32m━━━━━━━━━━━━━━━━━━━━\u001b[0m\u001b[37m\u001b[0m \u001b[1m0s\u001b[0m 484us/step - loss: 2.3317 - mae: 2.3317 - val_loss: 2.3652 - val_mae: 2.3652\n",
      "Epoch 23/100\n",
      "\u001b[1m187/187\u001b[0m \u001b[32m━━━━━━━━━━━━━━━━━━━━\u001b[0m\u001b[37m\u001b[0m \u001b[1m0s\u001b[0m 451us/step - loss: 2.3661 - mae: 2.3661 - val_loss: 2.3699 - val_mae: 2.3699\n",
      "Epoch 24/100\n",
      "\u001b[1m187/187\u001b[0m \u001b[32m━━━━━━━━━━━━━━━━━━━━\u001b[0m\u001b[37m\u001b[0m \u001b[1m0s\u001b[0m 430us/step - loss: 2.3191 - mae: 2.3191 - val_loss: 2.3655 - val_mae: 2.3655\n",
      "Epoch 25/100\n",
      "\u001b[1m187/187\u001b[0m \u001b[32m━━━━━━━━━━━━━━━━━━━━\u001b[0m\u001b[37m\u001b[0m \u001b[1m0s\u001b[0m 452us/step - loss: 2.3558 - mae: 2.3558 - val_loss: 2.3744 - val_mae: 2.3744\n",
      "Epoch 26/100\n",
      "\u001b[1m187/187\u001b[0m \u001b[32m━━━━━━━━━━━━━━━━━━━━\u001b[0m\u001b[37m\u001b[0m \u001b[1m0s\u001b[0m 482us/step - loss: 2.3401 - mae: 2.3401 - val_loss: 2.3660 - val_mae: 2.3660\n",
      "Epoch 27/100\n",
      "\u001b[1m187/187\u001b[0m \u001b[32m━━━━━━━━━━━━━━━━━━━━\u001b[0m\u001b[37m\u001b[0m \u001b[1m0s\u001b[0m 534us/step - loss: 2.3650 - mae: 2.3650 - val_loss: 2.3709 - val_mae: 2.3709\n",
      "Epoch 28/100\n",
      "\u001b[1m187/187\u001b[0m \u001b[32m━━━━━━━━━━━━━━━━━━━━\u001b[0m\u001b[37m\u001b[0m \u001b[1m0s\u001b[0m 448us/step - loss: 2.3570 - mae: 2.3570 - val_loss: 2.3668 - val_mae: 2.3668\n",
      "Epoch 29/100\n",
      "\u001b[1m187/187\u001b[0m \u001b[32m━━━━━━━━━━━━━━━━━━━━\u001b[0m\u001b[37m\u001b[0m \u001b[1m0s\u001b[0m 432us/step - loss: 2.3404 - mae: 2.3404 - val_loss: 2.3710 - val_mae: 2.3710\n",
      "Epoch 30/100\n",
      "\u001b[1m187/187\u001b[0m \u001b[32m━━━━━━━━━━━━━━━━━━━━\u001b[0m\u001b[37m\u001b[0m \u001b[1m0s\u001b[0m 463us/step - loss: 2.3331 - mae: 2.3331 - val_loss: 2.3649 - val_mae: 2.3649\n",
      "Epoch 31/100\n",
      "\u001b[1m187/187\u001b[0m \u001b[32m━━━━━━━━━━━━━━━━━━━━\u001b[0m\u001b[37m\u001b[0m \u001b[1m0s\u001b[0m 602us/step - loss: 2.3805 - mae: 2.3805 - val_loss: 2.3862 - val_mae: 2.3862\n",
      "Epoch 32/100\n",
      "\u001b[1m187/187\u001b[0m \u001b[32m━━━━━━━━━━━━━━━━━━━━\u001b[0m\u001b[37m\u001b[0m \u001b[1m0s\u001b[0m 436us/step - loss: 2.3089 - mae: 2.3089 - val_loss: 2.3644 - val_mae: 2.3644\n",
      "Epoch 33/100\n",
      "\u001b[1m187/187\u001b[0m \u001b[32m━━━━━━━━━━━━━━━━━━━━\u001b[0m\u001b[37m\u001b[0m \u001b[1m0s\u001b[0m 428us/step - loss: 2.3651 - mae: 2.3651 - val_loss: 2.3719 - val_mae: 2.3719\n",
      "Epoch 34/100\n",
      "\u001b[1m187/187\u001b[0m \u001b[32m━━━━━━━━━━━━━━━━━━━━\u001b[0m\u001b[37m\u001b[0m \u001b[1m0s\u001b[0m 410us/step - loss: 2.3143 - mae: 2.3143 - val_loss: 2.3652 - val_mae: 2.3652\n",
      "Epoch 35/100\n",
      "\u001b[1m187/187\u001b[0m \u001b[32m━━━━━━━━━━━━━━━━━━━━\u001b[0m\u001b[37m\u001b[0m \u001b[1m0s\u001b[0m 429us/step - loss: 2.3504 - mae: 2.3504 - val_loss: 2.3972 - val_mae: 2.3972\n",
      "Epoch 36/100\n",
      "\u001b[1m187/187\u001b[0m \u001b[32m━━━━━━━━━━━━━━━━━━━━\u001b[0m\u001b[37m\u001b[0m \u001b[1m0s\u001b[0m 483us/step - loss: 2.3662 - mae: 2.3662 - val_loss: 2.3649 - val_mae: 2.3649\n",
      "Epoch 37/100\n",
      "\u001b[1m187/187\u001b[0m \u001b[32m━━━━━━━━━━━━━━━━━━━━\u001b[0m\u001b[37m\u001b[0m \u001b[1m0s\u001b[0m 477us/step - loss: 2.3086 - mae: 2.3086 - val_loss: 2.3641 - val_mae: 2.3641\n",
      "Epoch 38/100\n",
      "\u001b[1m187/187\u001b[0m \u001b[32m━━━━━━━━━━━━━━━━━━━━\u001b[0m\u001b[37m\u001b[0m \u001b[1m0s\u001b[0m 486us/step - loss: 2.3572 - mae: 2.3572 - val_loss: 2.3695 - val_mae: 2.3695\n",
      "Epoch 39/100\n",
      "\u001b[1m187/187\u001b[0m \u001b[32m━━━━━━━━━━━━━━━━━━━━\u001b[0m\u001b[37m\u001b[0m \u001b[1m0s\u001b[0m 434us/step - loss: 2.3550 - mae: 2.3550 - val_loss: 2.3636 - val_mae: 2.3636\n",
      "Epoch 40/100\n",
      "\u001b[1m187/187\u001b[0m \u001b[32m━━━━━━━━━━━━━━━━━━━━\u001b[0m\u001b[37m\u001b[0m \u001b[1m0s\u001b[0m 438us/step - loss: 2.3091 - mae: 2.3091 - val_loss: 2.3695 - val_mae: 2.3695\n",
      "Epoch 41/100\n",
      "\u001b[1m187/187\u001b[0m \u001b[32m━━━━━━━━━━━━━━━━━━━━\u001b[0m\u001b[37m\u001b[0m \u001b[1m0s\u001b[0m 425us/step - loss: 2.3354 - mae: 2.3354 - val_loss: 2.3707 - val_mae: 2.3707\n",
      "Epoch 42/100\n",
      "\u001b[1m187/187\u001b[0m \u001b[32m━━━━━━━━━━━━━━━━━━━━\u001b[0m\u001b[37m\u001b[0m \u001b[1m0s\u001b[0m 433us/step - loss: 2.3575 - mae: 2.3575 - val_loss: 2.3655 - val_mae: 2.3655\n",
      "Epoch 43/100\n",
      "\u001b[1m187/187\u001b[0m \u001b[32m━━━━━━━━━━━━━━━━━━━━\u001b[0m\u001b[37m\u001b[0m \u001b[1m0s\u001b[0m 436us/step - loss: 2.3363 - mae: 2.3363 - val_loss: 2.3628 - val_mae: 2.3628\n",
      "Epoch 44/100\n",
      "\u001b[1m187/187\u001b[0m \u001b[32m━━━━━━━━━━━━━━━━━━━━\u001b[0m\u001b[37m\u001b[0m \u001b[1m0s\u001b[0m 416us/step - loss: 2.3390 - mae: 2.3390 - val_loss: 2.3674 - val_mae: 2.3674\n",
      "Epoch 45/100\n",
      "\u001b[1m187/187\u001b[0m \u001b[32m━━━━━━━━━━━━━━━━━━━━\u001b[0m\u001b[37m\u001b[0m \u001b[1m0s\u001b[0m 437us/step - loss: 2.3659 - mae: 2.3659 - val_loss: 2.3717 - val_mae: 2.3717\n",
      "Epoch 46/100\n",
      "\u001b[1m187/187\u001b[0m \u001b[32m━━━━━━━━━━━━━━━━━━━━\u001b[0m\u001b[37m\u001b[0m \u001b[1m0s\u001b[0m 467us/step - loss: 2.3491 - mae: 2.3491 - val_loss: 2.3648 - val_mae: 2.3648\n",
      "Epoch 47/100\n",
      "\u001b[1m187/187\u001b[0m \u001b[32m━━━━━━━━━━━━━━━━━━━━\u001b[0m\u001b[37m\u001b[0m \u001b[1m0s\u001b[0m 421us/step - loss: 2.3998 - mae: 2.3998 - val_loss: 2.3681 - val_mae: 2.3681\n",
      "Epoch 48/100\n",
      "\u001b[1m187/187\u001b[0m \u001b[32m━━━━━━━━━━━━━━━━━━━━\u001b[0m\u001b[37m\u001b[0m \u001b[1m0s\u001b[0m 436us/step - loss: 2.3511 - mae: 2.3511 - val_loss: 2.3614 - val_mae: 2.3614\n",
      "Epoch 49/100\n",
      "\u001b[1m187/187\u001b[0m \u001b[32m━━━━━━━━━━━━━━━━━━━━\u001b[0m\u001b[37m\u001b[0m \u001b[1m0s\u001b[0m 431us/step - loss: 2.3249 - mae: 2.3249 - val_loss: 2.3785 - val_mae: 2.3785\n",
      "Epoch 50/100\n",
      "\u001b[1m187/187\u001b[0m \u001b[32m━━━━━━━━━━━━━━━━━━━━\u001b[0m\u001b[37m\u001b[0m \u001b[1m0s\u001b[0m 428us/step - loss: 2.3264 - mae: 2.3264 - val_loss: 2.3625 - val_mae: 2.3625\n",
      "Epoch 51/100\n",
      "\u001b[1m187/187\u001b[0m \u001b[32m━━━━━━━━━━━━━━━━━━━━\u001b[0m\u001b[37m\u001b[0m \u001b[1m0s\u001b[0m 421us/step - loss: 2.3431 - mae: 2.3431 - val_loss: 2.3621 - val_mae: 2.3621\n",
      "Epoch 52/100\n",
      "\u001b[1m187/187\u001b[0m \u001b[32m━━━━━━━━━━━━━━━━━━━━\u001b[0m\u001b[37m\u001b[0m \u001b[1m0s\u001b[0m 431us/step - loss: 2.3350 - mae: 2.3350 - val_loss: 2.3673 - val_mae: 2.3673\n",
      "Epoch 53/100\n",
      "\u001b[1m187/187\u001b[0m \u001b[32m━━━━━━━━━━━━━━━━━━━━\u001b[0m\u001b[37m\u001b[0m \u001b[1m0s\u001b[0m 588us/step - loss: 2.3739 - mae: 2.3739 - val_loss: 2.3607 - val_mae: 2.3607\n",
      "Epoch 54/100\n",
      "\u001b[1m187/187\u001b[0m \u001b[32m━━━━━━━━━━━━━━━━━━━━\u001b[0m\u001b[37m\u001b[0m \u001b[1m0s\u001b[0m 459us/step - loss: 2.3375 - mae: 2.3375 - val_loss: 2.3589 - val_mae: 2.3589\n",
      "Epoch 55/100\n",
      "\u001b[1m187/187\u001b[0m \u001b[32m━━━━━━━━━━━━━━━━━━━━\u001b[0m\u001b[37m\u001b[0m \u001b[1m0s\u001b[0m 431us/step - loss: 2.4096 - mae: 2.4096 - val_loss: 2.3595 - val_mae: 2.3595\n",
      "Epoch 56/100\n",
      "\u001b[1m187/187\u001b[0m \u001b[32m━━━━━━━━━━━━━━━━━━━━\u001b[0m\u001b[37m\u001b[0m \u001b[1m0s\u001b[0m 418us/step - loss: 2.3297 - mae: 2.3297 - val_loss: 2.3583 - val_mae: 2.3583\n",
      "Epoch 57/100\n",
      "\u001b[1m187/187\u001b[0m \u001b[32m━━━━━━━━━━━━━━━━━━━━\u001b[0m\u001b[37m\u001b[0m \u001b[1m0s\u001b[0m 429us/step - loss: 2.3442 - mae: 2.3442 - val_loss: 2.3602 - val_mae: 2.3602\n",
      "Epoch 58/100\n",
      "\u001b[1m187/187\u001b[0m \u001b[32m━━━━━━━━━━━━━━━━━━━━\u001b[0m\u001b[37m\u001b[0m \u001b[1m0s\u001b[0m 436us/step - loss: 2.3491 - mae: 2.3491 - val_loss: 2.3677 - val_mae: 2.3677\n",
      "Epoch 59/100\n",
      "\u001b[1m187/187\u001b[0m \u001b[32m━━━━━━━━━━━━━━━━━━━━\u001b[0m\u001b[37m\u001b[0m \u001b[1m0s\u001b[0m 433us/step - loss: 2.3595 - mae: 2.3595 - val_loss: 2.3595 - val_mae: 2.3595\n",
      "Epoch 60/100\n",
      "\u001b[1m187/187\u001b[0m \u001b[32m━━━━━━━━━━━━━━━━━━━━\u001b[0m\u001b[37m\u001b[0m \u001b[1m0s\u001b[0m 425us/step - loss: 2.3689 - mae: 2.3689 - val_loss: 2.3586 - val_mae: 2.3586\n",
      "Epoch 61/100\n",
      "\u001b[1m187/187\u001b[0m \u001b[32m━━━━━━━━━━━━━━━━━━━━\u001b[0m\u001b[37m\u001b[0m \u001b[1m0s\u001b[0m 423us/step - loss: 2.3482 - mae: 2.3482 - val_loss: 2.3622 - val_mae: 2.3622\n",
      "Epoch 62/100\n",
      "\u001b[1m187/187\u001b[0m \u001b[32m━━━━━━━━━━━━━━━━━━━━\u001b[0m\u001b[37m\u001b[0m \u001b[1m0s\u001b[0m 470us/step - loss: 2.3454 - mae: 2.3454 - val_loss: 2.3598 - val_mae: 2.3598\n",
      "Epoch 63/100\n",
      "\u001b[1m187/187\u001b[0m \u001b[32m━━━━━━━━━━━━━━━━━━━━\u001b[0m\u001b[37m\u001b[0m \u001b[1m0s\u001b[0m 430us/step - loss: 2.3238 - mae: 2.3238 - val_loss: 2.3652 - val_mae: 2.3652\n",
      "Epoch 64/100\n",
      "\u001b[1m187/187\u001b[0m \u001b[32m━━━━━━━━━━━━━━━━━━━━\u001b[0m\u001b[37m\u001b[0m \u001b[1m0s\u001b[0m 439us/step - loss: 2.3398 - mae: 2.3398 - val_loss: 2.3615 - val_mae: 2.3615\n",
      "Epoch 65/100\n",
      "\u001b[1m187/187\u001b[0m \u001b[32m━━━━━━━━━━━━━━━━━━━━\u001b[0m\u001b[37m\u001b[0m \u001b[1m0s\u001b[0m 432us/step - loss: 2.3630 - mae: 2.3630 - val_loss: 2.3572 - val_mae: 2.3572\n",
      "Epoch 66/100\n",
      "\u001b[1m187/187\u001b[0m \u001b[32m━━━━━━━━━━━━━━━━━━━━\u001b[0m\u001b[37m\u001b[0m \u001b[1m0s\u001b[0m 427us/step - loss: 2.3149 - mae: 2.3149 - val_loss: 2.3624 - val_mae: 2.3624\n",
      "Epoch 67/100\n",
      "\u001b[1m187/187\u001b[0m \u001b[32m━━━━━━━━━━━━━━━━━━━━\u001b[0m\u001b[37m\u001b[0m \u001b[1m0s\u001b[0m 431us/step - loss: 2.3513 - mae: 2.3513 - val_loss: 2.3586 - val_mae: 2.3586\n",
      "Epoch 68/100\n",
      "\u001b[1m187/187\u001b[0m \u001b[32m━━━━━━━━━━━━━━━━━━━━\u001b[0m\u001b[37m\u001b[0m \u001b[1m0s\u001b[0m 436us/step - loss: 2.3504 - mae: 2.3504 - val_loss: 2.3549 - val_mae: 2.3549\n",
      "Epoch 69/100\n",
      "\u001b[1m187/187\u001b[0m \u001b[32m━━━━━━━━━━━━━━━━━━━━\u001b[0m\u001b[37m\u001b[0m \u001b[1m0s\u001b[0m 437us/step - loss: 2.3626 - mae: 2.3626 - val_loss: 2.3555 - val_mae: 2.3555\n",
      "Epoch 70/100\n",
      "\u001b[1m187/187\u001b[0m \u001b[32m━━━━━━━━━━━━━━━━━━━━\u001b[0m\u001b[37m\u001b[0m \u001b[1m0s\u001b[0m 467us/step - loss: 2.3257 - mae: 2.3257 - val_loss: 2.3598 - val_mae: 2.3598\n",
      "Epoch 71/100\n",
      "\u001b[1m187/187\u001b[0m \u001b[32m━━━━━━━━━━━━━━━━━━━━\u001b[0m\u001b[37m\u001b[0m \u001b[1m0s\u001b[0m 423us/step - loss: 2.3535 - mae: 2.3535 - val_loss: 2.3649 - val_mae: 2.3649\n",
      "Epoch 72/100\n",
      "\u001b[1m187/187\u001b[0m \u001b[32m━━━━━━━━━━━━━━━━━━━━\u001b[0m\u001b[37m\u001b[0m \u001b[1m0s\u001b[0m 437us/step - loss: 2.3500 - mae: 2.3500 - val_loss: 2.3554 - val_mae: 2.3554\n",
      "Epoch 73/100\n",
      "\u001b[1m187/187\u001b[0m \u001b[32m━━━━━━━━━━━━━━━━━━━━\u001b[0m\u001b[37m\u001b[0m \u001b[1m0s\u001b[0m 432us/step - loss: 2.3441 - mae: 2.3441 - val_loss: 2.3546 - val_mae: 2.3546\n",
      "Epoch 74/100\n",
      "\u001b[1m187/187\u001b[0m \u001b[32m━━━━━━━━━━━━━━━━━━━━\u001b[0m\u001b[37m\u001b[0m \u001b[1m0s\u001b[0m 602us/step - loss: 2.3407 - mae: 2.3407 - val_loss: 2.3533 - val_mae: 2.3533\n",
      "Epoch 75/100\n",
      "\u001b[1m187/187\u001b[0m \u001b[32m━━━━━━━━━━━━━━━━━━━━\u001b[0m\u001b[37m\u001b[0m \u001b[1m0s\u001b[0m 442us/step - loss: 2.3564 - mae: 2.3564 - val_loss: 2.3537 - val_mae: 2.3537\n",
      "Epoch 76/100\n",
      "\u001b[1m187/187\u001b[0m \u001b[32m━━━━━━━━━━━━━━━━━━━━\u001b[0m\u001b[37m\u001b[0m \u001b[1m0s\u001b[0m 427us/step - loss: 2.3498 - mae: 2.3498 - val_loss: 2.3521 - val_mae: 2.3521\n",
      "Epoch 77/100\n",
      "\u001b[1m187/187\u001b[0m \u001b[32m━━━━━━━━━━━━━━━━━━━━\u001b[0m\u001b[37m\u001b[0m \u001b[1m0s\u001b[0m 434us/step - loss: 2.3398 - mae: 2.3398 - val_loss: 2.3671 - val_mae: 2.3671\n",
      "Epoch 78/100\n",
      "\u001b[1m187/187\u001b[0m \u001b[32m━━━━━━━━━━━━━━━━━━━━\u001b[0m\u001b[37m\u001b[0m \u001b[1m0s\u001b[0m 460us/step - loss: 2.3474 - mae: 2.3474 - val_loss: 2.3522 - val_mae: 2.3522\n",
      "Epoch 79/100\n",
      "\u001b[1m187/187\u001b[0m \u001b[32m━━━━━━━━━━━━━━━━━━━━\u001b[0m\u001b[37m\u001b[0m \u001b[1m0s\u001b[0m 420us/step - loss: 2.3584 - mae: 2.3584 - val_loss: 2.3523 - val_mae: 2.3523\n",
      "Epoch 80/100\n",
      "\u001b[1m187/187\u001b[0m \u001b[32m━━━━━━━━━━━━━━━━━━━━\u001b[0m\u001b[37m\u001b[0m \u001b[1m0s\u001b[0m 426us/step - loss: 2.3399 - mae: 2.3399 - val_loss: 2.3508 - val_mae: 2.3508\n",
      "Epoch 81/100\n",
      "\u001b[1m187/187\u001b[0m \u001b[32m━━━━━━━━━━━━━━━━━━━━\u001b[0m\u001b[37m\u001b[0m \u001b[1m0s\u001b[0m 430us/step - loss: 2.3199 - mae: 2.3199 - val_loss: 2.3635 - val_mae: 2.3635\n",
      "Epoch 82/100\n",
      "\u001b[1m187/187\u001b[0m \u001b[32m━━━━━━━━━━━━━━━━━━━━\u001b[0m\u001b[37m\u001b[0m \u001b[1m0s\u001b[0m 422us/step - loss: 2.3311 - mae: 2.3311 - val_loss: 2.3582 - val_mae: 2.3582\n",
      "Epoch 83/100\n",
      "\u001b[1m187/187\u001b[0m \u001b[32m━━━━━━━━━━━━━━━━━━━━\u001b[0m\u001b[37m\u001b[0m \u001b[1m0s\u001b[0m 430us/step - loss: 2.3480 - mae: 2.3480 - val_loss: 2.3505 - val_mae: 2.3505\n",
      "Epoch 84/100\n",
      "\u001b[1m187/187\u001b[0m \u001b[32m━━━━━━━━━━━━━━━━━━━━\u001b[0m\u001b[37m\u001b[0m \u001b[1m0s\u001b[0m 412us/step - loss: 2.3401 - mae: 2.3401 - val_loss: 2.3503 - val_mae: 2.3503\n",
      "Epoch 85/100\n",
      "\u001b[1m187/187\u001b[0m \u001b[32m━━━━━━━━━━━━━━━━━━━━\u001b[0m\u001b[37m\u001b[0m \u001b[1m0s\u001b[0m 429us/step - loss: 2.3623 - mae: 2.3623 - val_loss: 2.3527 - val_mae: 2.3527\n",
      "Epoch 86/100\n",
      "\u001b[1m187/187\u001b[0m \u001b[32m━━━━━━━━━━━━━━━━━━━━\u001b[0m\u001b[37m\u001b[0m \u001b[1m0s\u001b[0m 428us/step - loss: 2.3421 - mae: 2.3421 - val_loss: 2.3535 - val_mae: 2.3535\n",
      "Epoch 87/100\n",
      "\u001b[1m187/187\u001b[0m \u001b[32m━━━━━━━━━━━━━━━━━━━━\u001b[0m\u001b[37m\u001b[0m \u001b[1m0s\u001b[0m 454us/step - loss: 2.4035 - mae: 2.4035 - val_loss: 2.3497 - val_mae: 2.3497\n",
      "Epoch 88/100\n",
      "\u001b[1m187/187\u001b[0m \u001b[32m━━━━━━━━━━━━━━━━━━━━\u001b[0m\u001b[37m\u001b[0m \u001b[1m0s\u001b[0m 428us/step - loss: 2.3215 - mae: 2.3215 - val_loss: 2.3475 - val_mae: 2.3475\n",
      "Epoch 89/100\n",
      "\u001b[1m187/187\u001b[0m \u001b[32m━━━━━━━━━━━━━━━━━━━━\u001b[0m\u001b[37m\u001b[0m \u001b[1m0s\u001b[0m 425us/step - loss: 2.3520 - mae: 2.3520 - val_loss: 2.3538 - val_mae: 2.3538\n",
      "Epoch 90/100\n",
      "\u001b[1m187/187\u001b[0m \u001b[32m━━━━━━━━━━━━━━━━━━━━\u001b[0m\u001b[37m\u001b[0m \u001b[1m0s\u001b[0m 449us/step - loss: 2.3874 - mae: 2.3874 - val_loss: 2.3552 - val_mae: 2.3552\n",
      "Epoch 91/100\n",
      "\u001b[1m187/187\u001b[0m \u001b[32m━━━━━━━━━━━━━━━━━━━━\u001b[0m\u001b[37m\u001b[0m \u001b[1m0s\u001b[0m 433us/step - loss: 2.3589 - mae: 2.3589 - val_loss: 2.3502 - val_mae: 2.3502\n",
      "Epoch 92/100\n",
      "\u001b[1m187/187\u001b[0m \u001b[32m━━━━━━━━━━━━━━━━━━━━\u001b[0m\u001b[37m\u001b[0m \u001b[1m0s\u001b[0m 605us/step - loss: 2.3367 - mae: 2.3367 - val_loss: 2.3681 - val_mae: 2.3681\n",
      "Epoch 93/100\n",
      "\u001b[1m187/187\u001b[0m \u001b[32m━━━━━━━━━━━━━━━━━━━━\u001b[0m\u001b[37m\u001b[0m \u001b[1m0s\u001b[0m 430us/step - loss: 2.3550 - mae: 2.3550 - val_loss: 2.3475 - val_mae: 2.3475\n",
      "Epoch 94/100\n",
      "\u001b[1m187/187\u001b[0m \u001b[32m━━━━━━━━━━━━━━━━━━━━\u001b[0m\u001b[37m\u001b[0m \u001b[1m0s\u001b[0m 432us/step - loss: 2.3385 - mae: 2.3385 - val_loss: 2.3522 - val_mae: 2.3522\n",
      "Epoch 95/100\n",
      "\u001b[1m187/187\u001b[0m \u001b[32m━━━━━━━━━━━━━━━━━━━━\u001b[0m\u001b[37m\u001b[0m \u001b[1m0s\u001b[0m 458us/step - loss: 2.3611 - mae: 2.3611 - val_loss: 2.3476 - val_mae: 2.3476\n",
      "Epoch 96/100\n",
      "\u001b[1m187/187\u001b[0m \u001b[32m━━━━━━━━━━━━━━━━━━━━\u001b[0m\u001b[37m\u001b[0m \u001b[1m0s\u001b[0m 430us/step - loss: 2.3315 - mae: 2.3315 - val_loss: 2.3489 - val_mae: 2.3489\n",
      "Epoch 97/100\n",
      "\u001b[1m187/187\u001b[0m \u001b[32m━━━━━━━━━━━━━━━━━━━━\u001b[0m\u001b[37m\u001b[0m \u001b[1m0s\u001b[0m 437us/step - loss: 2.3512 - mae: 2.3512 - val_loss: 2.3554 - val_mae: 2.3554\n",
      "Epoch 98/100\n",
      "\u001b[1m187/187\u001b[0m \u001b[32m━━━━━━━━━━━━━━━━━━━━\u001b[0m\u001b[37m\u001b[0m \u001b[1m0s\u001b[0m 438us/step - loss: 2.3568 - mae: 2.3568 - val_loss: 2.3472 - val_mae: 2.3472\n",
      "Epoch 99/100\n",
      "\u001b[1m187/187\u001b[0m \u001b[32m━━━━━━━━━━━━━━━━━━━━\u001b[0m\u001b[37m\u001b[0m \u001b[1m0s\u001b[0m 440us/step - loss: 2.3551 - mae: 2.3551 - val_loss: 2.3471 - val_mae: 2.3471\n",
      "Epoch 100/100\n",
      "\u001b[1m187/187\u001b[0m \u001b[32m━━━━━━━━━━━━━━━━━━━━\u001b[0m\u001b[37m\u001b[0m \u001b[1m0s\u001b[0m 437us/step - loss: 2.3619 - mae: 2.3619 - val_loss: 2.3475 - val_mae: 2.3475\n"
     ]
    }
   ],
   "source": [
    "x = df.drop('fare_amount', axis=1)\n",
    "y = df['fare_amount']\n",
    "hist = model.fit(x, y, validation_split=0.2, epochs=100, batch_size=100)"
   ]
  },
  {
   "cell_type": "code",
   "execution_count": 5,
   "metadata": {},
   "outputs": [
    {
     "data": {
      "image/png": "[encoded data removed]",
      "text/plain": [
       "<Figure size 640x480 with 1 Axes>"
      ]
     },
     "metadata": {},
     "output_type": "display_data"
    }
   ],
   "source": [
    "%matplotlib inline\n",
    "import matplotlib.pyplot as plt\n",
    "import seaborn as sns\n",
    "\n",
    "sns.set()\n",
    "err = hist.history['mae']\n",
    "val_err = hist.history['val_mae']\n",
    "epochs = range(1, len(err) + 1)\n",
    "\n",
    "plt.plot(epochs, err, '-', label='Training MAE')\n",
    "plt.plot(epochs, val_err, ':', label='Validation MAE')\n",
    "plt.title('Training and Validation Accuracy')\n",
    "plt.xlabel('Epoch')\n",
    "plt.ylabel('Mean Absolute Error')\n",
    "plt.legend(loc='upper right')\n",
    "plt.show()"
   ]
  },
  {
   "cell_type": "code",
   "execution_count": 6,
   "metadata": {},
   "outputs": [
    {
     "name": "stdout",
     "output_type": "stream",
     "text": [
      "\u001b[1m729/729\u001b[0m \u001b[32m━━━━━━━━━━━━━━━━━━━━\u001b[0m\u001b[37m\u001b[0m \u001b[1m0s\u001b[0m 228us/step\n"
     ]
    },
    {
     "data": {
      "text/plain": [
       "0.7308420794548078"
      ]
     },
     "execution_count": 6,
     "metadata": {},
     "output_type": "execute_result"
    }
   ],
   "source": [
    "from sklearn.metrics import r2_score\n",
    "r2_score(y, model.predict(x))"
   ]
  },
  {
   "cell_type": "code",
   "execution_count": 7,
   "metadata": {},
   "outputs": [
    {
     "name": "stdout",
     "output_type": "stream",
     "text": [
      "\u001b[1m1/1\u001b[0m \u001b[32m━━━━━━━━━━━━━━━━━━━━\u001b[0m\u001b[37m\u001b[0m \u001b[1m0s\u001b[0m 9ms/step\n"
     ]
    },
    {
     "data": {
      "text/plain": [
       "array([[10.652164]], dtype=float32)"
      ]
     },
     "execution_count": 7,
     "metadata": {},
     "output_type": "execute_result"
    }
   ],
   "source": [
    "import numpy as np\n",
    "model.predict(np.array([[4, 17, 2.0]]))"
   ]
  },
  {
   "cell_type": "code",
   "execution_count": 8,
   "metadata": {},
   "outputs": [
    {
     "name": "stdout",
     "output_type": "stream",
     "text": [
      "\u001b[1m1/1\u001b[0m \u001b[32m━━━━━━━━━━━━━━━━━━━━\u001b[0m\u001b[37m\u001b[0m \u001b[1m0s\u001b[0m 10ms/step\n"
     ]
    },
    {
     "data": {
      "text/plain": [
       "array([[10.728848]], dtype=float32)"
      ]
     },
     "execution_count": 8,
     "metadata": {},
     "output_type": "execute_result"
    }
   ],
   "source": [
    "model.predict(np.array([[5, 17, 2.0]]))"
   ]
  },
  {
   "cell_type": "markdown",
   "metadata": {},
   "source": [
    "# first try\n",
    "\n",
    "Epoch 99/100\n",
    "187/187 ━━━━━━━━━━━━━━━━━━━━ 0s 566us/step - loss: 2.2871 - mae: 2.2871 - val_loss: 2.2858 - val_mae: 2.2858\n",
    "\n",
    "Epoch 100/100\n",
    "187/187 ━━━━━━━━━━━━━━━━━━━━ 0s 624us/step - loss: 2.2615 - mae: 2.2615 - val_loss: 2.2838 - val_mae: 2.2838\n",
    "\n",
    "R2: 0.7429765770115601\n",
    "\n",
    "predict 1: array([[10.438305]], dtype=float32)\n",
    "\n",
    "predict 2: array([[10.1964035]], dtype=float32)"
   ]
  },
  {
   "cell_type": "markdown",
   "metadata": {},
   "source": [
    "# second try (ничего не меняем)\n",
    "\n",
    "Epoch 99/100\n",
    "187/187 ━━━━━━━━━━━━━━━━━━━━ 0s 545us/step - loss: 2.3250 - mae: 2.3250 - val_loss: 2.2763 - val_mae: 2.2763\n",
    "\n",
    "Epoch 100/100\n",
    "187/187 ━━━━━━━━━━━━━━━━━━━━ 0s 555us/step - loss: 2.2724 - mae: 2.2724 - val_loss: 2.2807 - val_mae: 2.2807\n",
    "\n",
    "R2: 0.7401040333611213\n",
    "\n",
    "predict 1: array([[10.463156]], dtype=float32)\n",
    "\n",
    "predict 2: array([[10.228653]], dtype=float32)\n",
    "\n",
    "(*Тут видно что когда повторно запускаем с теми же параметрами, то точность незначительно меняется из-за того, что веса в начале инициализируются с разными значениями.*)"
   ]
  },
  {
   "cell_type": "markdown",
   "metadata": {},
   "source": [
    "# third try (количество нейронов: 128)\n",
    "Epoch 99/100\n",
    "187/187 ━━━━━━━━━━━━━━━━━━━━ 0s 535us/step - loss: 2.2707 - mae: 2.2707 - val_loss: 2.3025 - val_mae: 2.3025\n",
    "\n",
    "Epoch 100/100\n",
    "187/187 ━━━━━━━━━━━━━━━━━━━━ 0s 561us/step - loss: 2.3364 - mae: 2.3364 - val_loss: 2.3146 - val_mae: 2.3146\n",
    "\n",
    "R2: 0.7296747224858564\n",
    "\n",
    "predict 1: array([[10.357025]], dtype=float32)\n",
    "\n",
    "predict 2: array([[10.185058]], dtype=float32)\n"
   ]
  },
  {
   "cell_type": "markdown",
   "metadata": {},
   "source": [
    "# forth try (количество нейронов: 1024, 1024)\n",
    "Epoch 99/100\n",
    "187/187 ━━━━━━━━━━━━━━━━━━━━ 1s 7ms/step - loss: 2.2911 - mae: 2.2911 - val_loss: 2.2875 - val_mae: 2.2875\n",
    "\n",
    "Epoch 100/100\n",
    "187/187 ━━━━━━━━━━━━━━━━━━━━ 1s 7ms/step - loss: 2.2629 - mae: 2.2629 - val_loss: 2.2740 - val_mae: 2.2740\n",
    "\n",
    "R2: 0.7479438952907329\n",
    "\n",
    "predict 1: array([[10.900642]], dtype=float32)\n",
    "\n",
    "predict 2: array([[10.728992]], dtype=float32)\n",
    "\n",
    "(*несмотря на то, что мы добавили еще один слой и увеличили количество нейронов, результат можно сказать не улучшается*)"
   ]
  },
  {
   "cell_type": "markdown",
   "metadata": {},
   "source": [
    "# fifth try (количество нейронов: 16)\n",
    "Epoch 99/100\n",
    "187/187 ━━━━━━━━━━━━━━━━━━━━ 0s 440us/step - loss: 2.3551 - mae: 2.3551 - val_loss: 2.3471 - val_mae: 2.3471\n",
    "\n",
    "Epoch 100/100\n",
    "187/187 ━━━━━━━━━━━━━━━━━━━━ 0s 437us/step - loss: 2.3619 - mae: 2.3619 - val_loss: 2.3475 - val_mae: 2.3475\n",
    "\n",
    "\n",
    "R2: 0.7308420794548078\n",
    "\n",
    "predict 1: array([[10.652164]], dtype=float32)\n",
    "\n",
    "predict 2: array([[10.728848]], dtype=float32)\n",
    "\n",
    "(*хоть и нейронов мало, но результат сравним с предыдущими попытками*)"
   ]
  },
  {
   "cell_type": "markdown",
   "metadata": {},
   "source": []
  }
 ],
 "metadata": {
  "kernelspec": {
   "display_name": "env",
   "language": "python",
   "name": "python3"
  },
  "language_info": {
   "codemirror_mode": {
    "name": "ipython",
    "version": 3
   },
   "file_extension": ".py",
   "mimetype": "text/x-python",
   "name": "python",
   "nbconvert_exporter": "python",
   "pygments_lexer": "ipython3",
   "version": "3.12.2"
  }
 },
 "nbformat": 4,
 "nbformat_minor": 4
}
