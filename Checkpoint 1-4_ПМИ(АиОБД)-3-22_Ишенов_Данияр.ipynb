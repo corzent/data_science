{
 "cells": [
  {
   "cell_type": "markdown",
   "metadata": {
    "id": "HcF9My_FhLuk"
   },
   "source": [
    "## Наука о данных  \n",
    "\n",
    "## Checkpoint 1-4\n",
    "\n",
    "### Общая информация\n",
    "\n",
    "Общее время на выполнение:  40 мин\n",
    "\n",
    "Максимальная оценка за работу — 10 баллов.\n",
    "\n",
    "Сдавать задание по истечении 40 минут нельзя. \n",
    "\n",
    "Задание выполняется самостоятельно. \n",
    "\n",
    "### Формат сдачи\n",
    "Задания сдаются в виде ноутбука с выполненными заданиями. \n",
    "\n",
    "Дайте имя ноутбуку: <span style=\"color: red;\">Checkpoint_1_4_Группа_Фамилия_Имя.ipynb</span>\n",
    "\n",
    "## <span style=\"color: red;\">Примечание:</span>\n",
    "<span style=\"color: red;\">заранее откройте доступ к Вашей работе.  Оценка «0» выставляется  автоматически, если нету доступа к отправленному ноутбуку!</span>"
   ]
  },
  {
   "cell_type": "markdown",
   "metadata": {
    "id": "iWs6ljrIhLus"
   },
   "source": [
    "## 1. Использование языка разметки Markdown\n",
    "\n",
    "1. Какие типы ячеек можно создавать в Jupyter Notebook? <span style=\"color: red;\">['Markdown', 'Code', 'Raw']</span> \n",
    "2. Какие библиотеки **Python** для <b>Data Science</b> были использованы Вами? Нужное выделить *жирным шрифтом* и не использованные Вами библиотеки <s>перечекрнуть</s>. ([Plotly](https://plotly.com/), [**NumPy**](https://numpy.org/doc/stable/), [SciPy](https://docs.scipy.org/doc/scipy/), [**Pandas**](https://pandas.pydata.org/docs/), [**Matplotlib**](https://matplotlib.org/), [**Seaborn**](https://seaborn.pydata.org/tutorial/introduction.html), [**Scikit-learn**](https://scikit-learn.org/stable/user_guide.html), [TensorFlow](https://www.tensorflow.org/), [Keras](https://keras.io/), [Scrapy](https://scrapy.org/), [**NLTK**](https://www.nltk.org/), Pattern, Basemap.)\n",
    "3. [Python документация](https://docs.python.org/3/) и [NumPy](https://numpy.org/doc/stable/) документация. Добавьте ссылку на *NumPy* документацию. Добавьте ссылки на вышеперечисленные библиотеки.\n",
    "4. Оформить следующую формулу с помощью [LaTex](https://ru.wikibooks.org/wiki/%D0%9C%D0%B0%D1%82%D0%B5%D0%BC%D0%B0%D1%82%D0%B8%D1%87%D0%B5%D1%81%D0%BA%D0%B8%D0%B5_%D1%84%D0%BE%D1%80%D0%BC%D1%83%D0%BB%D1%8B_%D0%B2_LaTeX):"
   ]
  },
  {
   "cell_type": "markdown",
   "metadata": {},
   "source": [
    "<img src=\"https://forum.jscourse.com/uploads/default/original/2X/d/daecbb0cfe6a9aa2b74219d93b8da7f3e19b11a1.png\" width=300 height=300 align=\"left\"/>"
   ]
  },
  {
   "cell_type": "markdown",
   "metadata": {},
   "source": [
    "$\n",
    "d = \\sqrt{(x_b - x_a)^2 + (y_b - y_a)^2}\n",
    "$\n",
    "\n",
    "$x_a$ и $y_a$ - координаты первой точки A, \n",
    "\n",
    "$x_b$ и $y_b$ - координаты второй точки B\n"
   ]
  },
  {
   "cell_type": "markdown",
   "metadata": {
    "id": "sUe2vnFGhLuu"
   },
   "source": [
    "**2. Импортировать библиотеки pandas и seaborn**"
   ]
  },
  {
   "cell_type": "code",
   "execution_count": 3,
   "metadata": {},
   "outputs": [],
   "source": [
    "# Ваш код здесь\n",
    "import pandas as pd\n",
    "import seaborn as sns"
   ]
  },
  {
   "cell_type": "markdown",
   "metadata": {
    "id": "dneJl9TyhLuv"
   },
   "source": [
    "**3. Импортируйте со [ссылки](https://drive.google.com/uc?id=1ul7viACVLsd4f4Aywv5iOSI49jBMcIk3) csv-файл в набор данных под названием weather_data**"
   ]
  },
  {
   "cell_type": "code",
   "execution_count": 4,
   "metadata": {},
   "outputs": [],
   "source": [
    "# Ваш код здесь\n",
    "\n",
    "weather_data = pd.read_csv('https://drive.google.com/uc?id=1ul7viACVLsd4f4Aywv5iOSI49jBMcIk3')"
   ]
  },
  {
   "cell_type": "markdown",
   "metadata": {},
   "source": [
    " **4. Узнайте, какие столбцы целого типа (int) а какие вещественного типа(float)?**"
   ]
  },
  {
   "cell_type": "code",
   "execution_count": 6,
   "metadata": {},
   "outputs": [
    {
     "name": "stdout",
     "output_type": "stream",
     "text": [
      "<class 'pandas.core.frame.DataFrame'>\n",
      "RangeIndex: 1840 entries, 0 to 1839\n",
      "Data columns (total 17 columns):\n",
      " #   Column                           Non-Null Count  Dtype  \n",
      "---  ------                           --------------  -----  \n",
      " 0   Date                             1840 non-null   object \n",
      " 1   Daily Mean Temperature           1840 non-null   float64\n",
      " 2   Daily Total Rainfall             1840 non-null   object \n",
      " 3   Daily Total Sunshine             1759 non-null   float64\n",
      " 4   Daily Mean Windspeed             1757 non-null   float64\n",
      " 5   Daily Mean Windspeed (Beaufort)  1757 non-null   object \n",
      " 6   Daily Maximum Gust               1684 non-null   float64\n",
      " 7   Daily Maximum Relative Humidity  1840 non-null   int64  \n",
      " 8   Daily Mean Total Cloud           1840 non-null   int64  \n",
      " 9   Daily Mean Visibility            1840 non-null   int64  \n",
      " 10  Daily Mean Pressure              1840 non-null   int64  \n",
      " 11  Daily Mean Wind Direction        1840 non-null   int64  \n",
      " 12  Mean Cardinal Direction          1840 non-null   object \n",
      " 13  Daily Max Gust Direction         1832 non-null   float64\n",
      " 14  Max Cardinal Direction           1832 non-null   object \n",
      " 15  Station                          1840 non-null   object \n",
      " 16  Year                             1840 non-null   int64  \n",
      "dtypes: float64(5), int64(6), object(6)\n",
      "memory usage: 244.5+ KB\n"
     ]
    }
   ],
   "source": [
    "# Ваш код здесь\n",
    "weather_data.info()"
   ]
  },
  {
   "cell_type": "markdown",
   "metadata": {
    "id": "gDD85M7bhLux"
   },
   "source": [
    " **5. Cколько в таблице строк, есть ли в данных пропуски, в каких колонках, и сколько их в каждой из этих колонок? Напишите комментарий к каждой строке**"
   ]
  },
  {
   "cell_type": "code",
   "execution_count": 8,
   "metadata": {
    "id": "PKulur3LhLuy"
   },
   "outputs": [
    {
     "data": {
      "text/plain": [
       "(1840,\n",
       " Date                                 0\n",
       " Daily Mean Temperature               0\n",
       " Daily Total Rainfall                 0\n",
       " Daily Total Sunshine                81\n",
       " Daily Mean Windspeed                83\n",
       " Daily Mean Windspeed (Beaufort)     83\n",
       " Daily Maximum Gust                 156\n",
       " Daily Maximum Relative Humidity      0\n",
       " Daily Mean Total Cloud               0\n",
       " Daily Mean Visibility                0\n",
       " Daily Mean Pressure                  0\n",
       " Daily Mean Wind Direction            0\n",
       " Mean Cardinal Direction              0\n",
       " Daily Max Gust Direction             8\n",
       " Max Cardinal Direction               8\n",
       " Station                              0\n",
       " Year                                 0\n",
       " dtype: int64)"
      ]
     },
     "execution_count": 8,
     "metadata": {},
     "output_type": "execute_result"
    }
   ],
   "source": [
    "# Ваш код здесь\n",
    "num_rows = weather_data.shape[0]\n",
    "missing_data = weather_data.isnull().sum()\n",
    "num_rows, missing_data"
   ]
  },
  {
   "cell_type": "markdown",
   "metadata": {
    "id": "B5ORhP2uhLuz"
   },
   "source": [
    "**5. Заполните пропуски пустой строкой для строковых колонок и нулём для числовых.**"
   ]
  },
  {
   "cell_type": "code",
   "execution_count": 10,
   "metadata": {
    "id": "TlF_JJ2ghLuz"
   },
   "outputs": [
    {
     "data": {
      "text/plain": [
       "Date                               0\n",
       "Daily Mean Temperature             0\n",
       "Daily Total Rainfall               0\n",
       "Daily Total Sunshine               0\n",
       "Daily Mean Windspeed               0\n",
       "Daily Mean Windspeed (Beaufort)    0\n",
       "Daily Maximum Gust                 0\n",
       "Daily Maximum Relative Humidity    0\n",
       "Daily Mean Total Cloud             0\n",
       "Daily Mean Visibility              0\n",
       "Daily Mean Pressure                0\n",
       "Daily Mean Wind Direction          0\n",
       "Mean Cardinal Direction            0\n",
       "Daily Max Gust Direction           0\n",
       "Max Cardinal Direction             0\n",
       "Station                            0\n",
       "Year                               0\n",
       "dtype: int64"
      ]
     },
     "execution_count": 10,
     "metadata": {},
     "output_type": "execute_result"
    }
   ],
   "source": [
    "# Ваш код здесь\n",
    "weather_data_filled = weather_data.fillna(\n",
    "    {col: \"\" if weather_data[col].dtype == 'object' else 0 for col in weather_data.columns}\n",
    ")\n",
    "\n",
    "weather_data_filled.isnull().sum()"
   ]
  },
  {
   "cell_type": "markdown",
   "metadata": {},
   "source": [
    "**6. Узнайте среднесуточные и среднегодовые показатели за январь, февраль, март и апрель.**"
   ]
  },
  {
   "cell_type": "code",
   "execution_count": 21,
   "metadata": {},
   "outputs": [],
   "source": [
    "# Ваш код здесь\n"
   ]
  },
  {
   "cell_type": "markdown",
   "metadata": {},
   "source": [
    "**7. Постройте график с boxplot для столбца Daily Mean Temperature**"
   ]
  },
  {
   "cell_type": "code",
   "execution_count": 14,
   "metadata": {},
   "outputs": [
    {
     "data": {
      "image/png": "[encoded data removed]",
      "text/plain": [
       "<Figure size 800x600 with 1 Axes>"
      ]
     },
     "metadata": {},
     "output_type": "display_data"
    }
   ],
   "source": [
    "# Ваш код здесь\n",
    "import matplotlib.pyplot as plt\n",
    "\n",
    "plt.figure(figsize=(8, 6))\n",
    "weather_data_filled['Daily Mean Temperature'].plot(kind='box')\n",
    "plt.ylabel('Temperature')\n",
    "plt.grid(True)\n",
    "plt.show()\n"
   ]
  },
  {
   "cell_type": "markdown",
   "metadata": {},
   "source": [
    "**8. С использование Pandas и Seaborn сгруппируйте данные по метеостанциям и покажите сводную статистику для среднесуточной температуры**"
   ]
  },
  {
   "cell_type": "code",
   "execution_count": null,
   "metadata": {},
   "outputs": [],
   "source": [
    "# Ваш код здесь"
   ]
  },
  {
   "cell_type": "markdown",
   "metadata": {},
   "source": [
    "**9. Вывести сводную статистику для столбца Daily Total Rainfall**"
   ]
  },
  {
   "cell_type": "code",
   "execution_count": null,
   "metadata": {},
   "outputs": [],
   "source": [
    "# Ваш код здесь"
   ]
  },
  {
   "cell_type": "markdown",
   "metadata": {},
   "source": [
    "**10. Создайте новый столбец с именем Rainfall, который является копией столбца Daily Total Rainfall, замените все значения 'tr' на 0.025 с изменением типа на float**"
   ]
  },
  {
   "cell_type": "code",
   "execution_count": 17,
   "metadata": {},
   "outputs": [
    {
     "data": {
      "text/html": [
       "<div>\n",
       "<style scoped>\n",
       "    .dataframe tbody tr th:only-of-type {\n",
       "        vertical-align: middle;\n",
       "    }\n",
       "\n",
       "    .dataframe tbody tr th {\n",
       "        vertical-align: top;\n",
       "    }\n",
       "\n",
       "    .dataframe thead th {\n",
       "        text-align: right;\n",
       "    }\n",
       "</style>\n",
       "<table border=\"1\" class=\"dataframe\">\n",
       "  <thead>\n",
       "    <tr style=\"text-align: right;\">\n",
       "      <th></th>\n",
       "      <th>Daily Total Rainfall</th>\n",
       "      <th>Rainfall</th>\n",
       "    </tr>\n",
       "  </thead>\n",
       "  <tbody>\n",
       "    <tr>\n",
       "      <th>0</th>\n",
       "      <td>3.1</td>\n",
       "      <td>3.100</td>\n",
       "    </tr>\n",
       "    <tr>\n",
       "      <th>1</th>\n",
       "      <td>0.1</td>\n",
       "      <td>0.100</td>\n",
       "    </tr>\n",
       "    <tr>\n",
       "      <th>2</th>\n",
       "      <td>0</td>\n",
       "      <td>0.000</td>\n",
       "    </tr>\n",
       "    <tr>\n",
       "      <th>3</th>\n",
       "      <td>0</td>\n",
       "      <td>0.000</td>\n",
       "    </tr>\n",
       "    <tr>\n",
       "      <th>4</th>\n",
       "      <td>0</td>\n",
       "      <td>0.000</td>\n",
       "    </tr>\n",
       "    <tr>\n",
       "      <th>5</th>\n",
       "      <td>0</td>\n",
       "      <td>0.000</td>\n",
       "    </tr>\n",
       "    <tr>\n",
       "      <th>6</th>\n",
       "      <td>0</td>\n",
       "      <td>0.000</td>\n",
       "    </tr>\n",
       "    <tr>\n",
       "      <th>7</th>\n",
       "      <td>tr</td>\n",
       "      <td>0.025</td>\n",
       "    </tr>\n",
       "  </tbody>\n",
       "</table>\n",
       "</div>"
      ],
      "text/plain": [
       "  Daily Total Rainfall  Rainfall\n",
       "0                  3.1     3.100\n",
       "1                  0.1     0.100\n",
       "2                    0     0.000\n",
       "3                    0     0.000\n",
       "4                    0     0.000\n",
       "5                    0     0.000\n",
       "6                    0     0.000\n",
       "7                   tr     0.025"
      ]
     },
     "execution_count": 17,
     "metadata": {},
     "output_type": "execute_result"
    }
   ],
   "source": [
    "# Ваш код здесь\n",
    "weather_data_filled['Rainfall'] = weather_data_filled['Daily Total Rainfall'].copy()\n",
    "weather_data_filled['Rainfall'] = weather_data_filled['Rainfall'].replace('tr', 0.025).astype(float)\n",
    "weather_data_filled[['Daily Total Rainfall', 'Rainfall']].head(8)\n"
   ]
  },
  {
   "cell_type": "markdown",
   "metadata": {},
   "source": [
    "**11. Постройте график температуры за 'январь' месяц. И в виде комментария объясните полученные результаты**"
   ]
  },
  {
   "cell_type": "code",
   "execution_count": null,
   "metadata": {},
   "outputs": [],
   "source": [
    "# Ваш код здесь"
   ]
  },
  {
   "cell_type": "markdown",
   "metadata": {},
   "source": [
    "**12. Постройте график температуры в июне 2016 года**"
   ]
  },
  {
   "cell_type": "code",
   "execution_count": null,
   "metadata": {},
   "outputs": [],
   "source": [
    "# Ваш код здесь"
   ]
  },
  {
   "cell_type": "markdown",
   "metadata": {},
   "source": [
    "**13. Почему очистка данных играет важную роль в анализе? Как во время анализа вы обрабатываете пропущенные значения?**"
   ]
  },
  {
   "cell_type": "code",
   "execution_count": null,
   "metadata": {},
   "outputs": [],
   "source": [
    "# Ваш ответ"
   ]
  },
  {
   "cell_type": "markdown",
   "metadata": {},
   "source": [
    "**14. Найдите таблицу цен за какой-то продукт. Проанализируйте эти данные и составьте прогноз стоимости/объема хранения данных через пять лет. Каковы будут цены на на данный продукт через 25 или 50 лет?**"
   ]
  },
  {
   "cell_type": "code",
   "execution_count": null,
   "metadata": {},
   "outputs": [],
   "source": [
    "# Ваш код здесь"
   ]
  },
  {
   "cell_type": "markdown",
   "metadata": {},
   "source": [
    "**15. Посетите сайт https://viz.wtf/post/673472354894086144/sticking-your-neck-out Объясните, почему данная визуализация так плоха и забавна.**\n",
    "\n",
    "How much money has Mike Glennon made in his career?"
   ]
  },
  {
   "cell_type": "code",
   "execution_count": null,
   "metadata": {},
   "outputs": [],
   "source": []
  }
 ],
 "metadata": {
  "colab": {
   "name": "homework-practice-01-pandas.ipynb",
   "provenance": []
  },
  "kernelspec": {
   "display_name": "Python 3 (ipykernel)",
   "language": "python",
   "name": "python3"
  },
  "language_info": {
   "codemirror_mode": {
    "name": "ipython",
    "version": 3
   },
   "file_extension": ".py",
   "mimetype": "text/x-python",
   "name": "python",
   "nbconvert_exporter": "python",
   "pygments_lexer": "ipython3",
   "version": "3.11.7"
  },
  "varInspector": {
   "cols": {
    "lenName": 16,
    "lenType": 16,
    "lenVar": 40
   },
   "kernels_config": {
    "python": {
     "delete_cmd_postfix": "",
     "delete_cmd_prefix": "del ",
     "library": "var_list.py",
     "varRefreshCmd": "print(var_dic_list())"
    },
    "r": {
     "delete_cmd_postfix": ") ",
     "delete_cmd_prefix": "rm(",
     "library": "var_list.r",
     "varRefreshCmd": "cat(var_dic_list()) "
    }
   },
   "types_to_exclude": [
    "module",
    "function",
    "builtin_function_or_method",
    "instance",
    "_Feature"
   ],
   "window_display": false
  }
 },
 "nbformat": 4,
 "nbformat_minor": 4
}
