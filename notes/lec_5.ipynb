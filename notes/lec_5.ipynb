{
 "cells": [
  {
   "cell_type": "markdown",
   "id": "227a4445-e040-44e8-8b92-adf9f8c78de7",
   "metadata": {},
   "source": [
    "## Класстеризация, классификация, регрессия"
   ]
  },
  {
   "cell_type": "markdown",
   "id": "a6b16a7d-7a3a-41f9-ba86-1d453d86b3c5",
   "metadata": {},
   "source": [
    "### Что такое машинное обучение?\n",
    "\n",
    "Машинное обучение (ML) — это раздел искусственного интеллекта (ИИ), который занимается разработкой алгоритмов и моделей, способных обучаться на данных и делать прогнозы или решения без явного программирования. Основная идея машинного обучения заключается в том, чтобы компьютерная система могла \"учиться\" на примерах (данных) и затем применять полученные знания для выполнения различных задач."
   ]
  },
  {
   "cell_type": "markdown",
   "id": "97b2d781-c640-463f-9d1c-064395761667",
   "metadata": {},
   "source": [
    "**Unsupervised Learning**\n",
    "\n",
    "Обучение без учителя (Unsupervised Learning) — это тип машинного обучения, в котором модели обучаются на неразмеченных данных, то есть без предоставления системе правильных ответов (меток). В отличие от обучения с учителем, где модель учится на парах «вход — выход», здесь алгоритм самостоятельно ищет закономерности и структуры в данных."
   ]
  },
  {
   "cell_type": "markdown",
   "id": "36c3d489",
   "metadata": {},
   "source": [
    "**Кластеризация**\n",
    "\n",
    "Кластеризация — это задача группировки объектов или данных в кластеры, так чтобы объекты внутри одного кластера были более похожи друг на друга, чем на объекты в других кластерах. Этот метод используется в обучении без учителя, когда модель должна находить скрытые структуры в неразмеченных данных."
   ]
  },
  {
   "cell_type": "code",
   "execution_count": 3,
   "id": "6b393310-fa1c-475f-a6bc-0b99302d007e",
   "metadata": {},
   "outputs": [],
   "source": [
    "import matplotlib.pyplot as plt\n",
    "import seaborn as sns\n",
    "sns.set()"
   ]
  },
  {
   "cell_type": "code",
   "execution_count": 4,
   "id": "4b3b0756-4ccf-4098-bf13-2cf36598ef8e",
   "metadata": {},
   "outputs": [],
   "source": [
    "from sklearn.datasets import make_blobs\n",
    "\n",
    "points, cluster_indexes = make_blobs(n_samples=300, centers=4, n_features=4, random_state=0)"
   ]
  },
  {
   "cell_type": "code",
   "execution_count": 5,
   "id": "b97825b2-5ad4-41dc-bc7c-5d0ab9467500",
   "metadata": {},
   "outputs": [],
   "source": [
    "from sklearn.cluster import KMeans\n",
    "\n",
    "kmeans = KMeans(n_clusters=3, random_state=0, n_init=10)\n",
    "kmeans.fit(points)\n",
    "predicted_cluster_indexes = kmeans.predict(points)"
   ]
  },
  {
   "cell_type": "markdown",
   "id": "c7db3a08-acaf-4851-ac2e-6660f48b801b",
   "metadata": {},
   "source": [
    "Входные данные, веса, функция активации. Обучение без учителя, класстеризация, k-NN"
   ]
  },
  {
   "cell_type": "markdown",
   "id": "58060ac4-7f50-429e-83d5-fe9469ee629c",
   "metadata": {},
   "source": [
    "https://dmitrymakarov.ru"
   ]
  },
  {
   "cell_type": "markdown",
   "id": "0ebc13c6-e3d7-4188-9ad0-54c970a64962",
   "metadata": {},
   "source": [
    "#### Входные данные (Input Data):\n",
    "Это исходные данные, которые подаются в модель для обучения. В зависимости от задачи входными данными могут быть:\n",
    "* Числовые данные (например, характеристики объектов).\n",
    "* Изображения, тексты, звуковые данные.\n",
    "\n",
    "Например, в задаче кластеризации данных это могут быть наборы признаков (например, возраст, доход и т. д.)."
   ]
  },
  {
   "cell_type": "markdown",
   "id": "73c11312",
   "metadata": {},
   "source": [
    "#### Веса (Weights):\n",
    "В машинном обучении, особенно в нейронных сетях, веса — это параметры модели, которые оптимизируются во время процесса обучения.\n",
    "\n",
    "Они контролируют, как сильно каждый входной признак (данные) влияет на результат модели.\n",
    "\n",
    "Цель обучения заключается в подборе таких весов, которые минимизируют ошибку предсказаний модели."
   ]
  },
  {
   "cell_type": "markdown",
   "id": "b3951a64",
   "metadata": {},
   "source": [
    "#### Функция активации (Activation Function):\n",
    "Это функция, которая применяется к результату работы нейрона или слоя нейронов в нейронной сети. Она преобразует линейную комбинацию входных данных и весов в выходное значение.\n",
    "\n",
    "Часто используемые функции активации:\n",
    "\n",
    "* ReLU (Rectified Linear Unit) — широко используемая в глубоких нейронных сетях.\n",
    "* Sigmoid — часто используется для бинарной классификации.\n",
    "* Tanh — применяется для нормализации данных.\n"
   ]
  },
  {
   "cell_type": "markdown",
   "id": "7371140d",
   "metadata": {},
   "source": [
    "#### K-NN (K-ближайших соседей):\n",
    "K-ближайших соседей (K-Nearest Neighbors) — это алгоритм классификации или регрессии, который ищет ближайших соседей для принятия решения.\n",
    "\n",
    "Принцип работы:\n",
    "\n",
    "Для нового объекта алгоритм находит 𝐾-ближайших соседей из обучающего набора данных (по какому-либо метрике, например, Евклидово расстояние).\n",
    "\n",
    "Затем класс нового объекта определяется на основе классов соседей (например, по большинству классов среди соседей).\n",
    "\n",
    "K-NN является методом обучения c учителем."
   ]
  },
  {
   "cell_type": "code",
   "execution_count": 1,
   "id": "a161fa73",
   "metadata": {},
   "outputs": [
    {
     "name": "stdout",
     "output_type": "stream",
     "text": [
      "[0]\n",
      "[[0.66666667 0.33333333]]\n"
     ]
    }
   ],
   "source": [
    "from sklearn.neighbors import KNeighborsClassifier\n",
    "\n",
    "X = [[0], [1], [2], [3]]\n",
    "y = [0, 0, 1, 1]\n",
    "\n",
    "neigh = KNeighborsClassifier(n_neighbors=3)\n",
    "neigh.fit(X, y)\n",
    "\n",
    "print(neigh.predict([[1.1]]))\n",
    "print(neigh.predict_proba([[0.9]]))"
   ]
  },
  {
   "cell_type": "code",
   "execution_count": null,
   "id": "b66b9e72",
   "metadata": {},
   "outputs": [],
   "source": []
  }
 ],
 "metadata": {
  "kernelspec": {
   "display_name": "env",
   "language": "python",
   "name": "python3"
  },
  "language_info": {
   "codemirror_mode": {
    "name": "ipython",
    "version": 3
   },
   "file_extension": ".py",
   "mimetype": "text/x-python",
   "name": "python",
   "nbconvert_exporter": "python",
   "pygments_lexer": "ipython3",
   "version": "3.12.2"
  }
 },
 "nbformat": 4,
 "nbformat_minor": 5
}
