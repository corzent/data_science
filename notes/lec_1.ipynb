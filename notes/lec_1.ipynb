{
 "cells": [
  {
   "cell_type": "markdown",
   "metadata": {},
   "source": [
    "# Introduction to Data Science"
   ]
  },
  {
   "cell_type": "markdown",
   "metadata": {},
   "source": [
    "Многие специалисты в области DS используют данные для своей работы. Эти данные бывают структурированными и неструктурированными и так далее. \n",
    "Сама дисциплина связана с математикой,  ставтистикой, программированием, базой данных и специальными документами."
   ]
  },
  {
   "cell_type": "markdown",
   "metadata": {},
   "source": [
    "DS появилась в 2001-году и наиболее широко использовался в компаниях Facebook и LinkedIn."
   ]
  },
  {
   "cell_type": "markdown",
   "metadata": {},
   "source": [
    "Для того, чтобы обработать данные условно можно разделить этапы на следующие: \n",
    "\n",
    "-  сбор данных\n",
    "\n",
    "- подготовка данных\n",
    "\n",
    "- обработка данных\n",
    "\n",
    "- анализ данных\n",
    "\n",
    "- коммуникация "
   ]
  },
  {
   "cell_type": "markdown",
   "metadata": {},
   "source": [
    "Термины использующиеся в DS:\n",
    "\n",
    "- Большие данные\n",
    "\n",
    "- Математическое моделирование\n",
    "\n",
    "- ИИ \n",
    "\n",
    "- Машинное обучение\n",
    "\n",
    "- Глубокое обучение"
   ]
  },
  {
   "cell_type": "markdown",
   "metadata": {},
   "source": [
    "DS используется для того, чтобы прогнозировать, рекомендовать, вылавливать аномалии.\n",
    "\n",
    "Для анализа данных следует освоить:\n",
    "\n",
    "- python\n",
    "\n",
    "- математику\n",
    "\n",
    "- машинное обучение\n",
    "\n",
    "- визуальный анализ данных и так далее"
   ]
  },
  {
   "cell_type": "markdown",
   "metadata": {},
   "source": [
    "Важные библиотеки:\n",
    "\n",
    "- Pandas\n",
    "\n",
    "- NumPy\n",
    "\n",
    "- SciPy\n",
    "\n",
    "- TensorFlow\n",
    "\n",
    "- Keras\n",
    "\n",
    "- Matplotlib\n",
    "\n",
    "- Seaborn\n",
    "\n",
    "- Scikit-Learn "
   ]
  },
  {
   "cell_type": "markdown",
   "metadata": {},
   "source": []
  }
 ],
 "metadata": {
  "kernelspec": {
   "display_name": "Python 3 (ipykernel)",
   "language": "python",
   "name": "python3"
  },
  "language_info": {
   "codemirror_mode": {
    "name": "ipython",
    "version": 3
   },
   "file_extension": ".py",
   "mimetype": "text/x-python",
   "name": "python",
   "nbconvert_exporter": "python",
   "pygments_lexer": "ipython3",
   "version": "3.11.7"
  }
 },
 "nbformat": 4,
 "nbformat_minor": 4
}
